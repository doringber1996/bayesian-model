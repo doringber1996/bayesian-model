{
  "cells": [
    {
      "cell_type": "code",
      "source": [
        "# שלב 1: התקנת git\n",
        "!apt-get install git\n",
        "\n",
        "# שלב 2: שכפול המאגר מ-GitHub\n",
        "!git clone https://github.com/doringber1996/bayesian-model.git\n",
        "\n",
        "# שלב 3: הוספת הנתיב של המודול ל-Python path וייבוא הפונקציה\n",
        "import sys\n",
        "sys.path.append('/content/bayesian-model')"
      ],
      "metadata": {
        "colab": {
          "base_uri": "https://localhost:8080/"
        },
        "id": "E6_UUeUHC6VA",
        "outputId": "99507307-738a-4962-a707-32647ebced97"
      },
      "id": "E6_UUeUHC6VA",
      "execution_count": 1,
      "outputs": [
        {
          "output_type": "stream",
          "name": "stdout",
          "text": [
            "Reading package lists... Done\n",
            "Building dependency tree... Done\n",
            "Reading state information... Done\n",
            "git is already the newest version (1:2.34.1-1ubuntu1.11).\n",
            "0 upgraded, 0 newly installed, 0 to remove and 45 not upgraded.\n",
            "Cloning into 'bayesian-model'...\n",
            "remote: Enumerating objects: 68, done.\u001b[K\n",
            "remote: Counting objects: 100% (68/68), done.\u001b[K\n",
            "remote: Compressing objects: 100% (66/66), done.\u001b[K\n",
            "remote: Total 68 (delta 52), reused 0 (delta 0), pack-reused 0 (from 0)\u001b[K\n",
            "Receiving objects: 100% (68/68), 645.67 KiB | 1.64 MiB/s, done.\n",
            "Resolving deltas: 100% (52/52), done.\n"
          ]
        }
      ]
    },
    {
      "cell_type": "code",
      "execution_count": 2,
      "id": "b5cd8bd4-5684-4cf0-9804-4df887b47075",
      "metadata": {
        "tags": [],
        "id": "b5cd8bd4-5684-4cf0-9804-4df887b47075",
        "colab": {
          "base_uri": "https://localhost:8080/"
        },
        "outputId": "712aedb1-db22-4430-d966-92ba5b3cee6f"
      },
      "outputs": [
        {
          "output_type": "stream",
          "name": "stdout",
          "text": [
            "Collecting simpy\n",
            "  Downloading simpy-4.1.1-py3-none-any.whl.metadata (6.1 kB)\n",
            "Downloading simpy-4.1.1-py3-none-any.whl (27 kB)\n",
            "Installing collected packages: simpy\n",
            "Successfully installed simpy-4.1.1\n"
          ]
        }
      ],
      "source": [
        "!pip install simpy\n",
        "import numpy as np\n",
        "import pandas as pd\n",
        "import pickle as pkl\n",
        "import simpy\n",
        "import os\n",
        "import matplotlib.pyplot as plt\n",
        "import sys\n",
        "import simpy\n",
        "from sim_func import Sim_func\n",
        "import pymc as pm\n",
        "import arviz as az\n",
        "from sklearn.linear_model import LinearRegression\n",
        "from sklearn.gaussian_process import GaussianProcessRegressor\n",
        "from sklearn.gaussian_process.kernels import RBF, ConstantKernel as C\n",
        "from sklearn.metrics import mean_squared_error\n",
        "from sklearn.model_selection import GridSearchCV\n",
        "import plotly.graph_objects as go\n",
        "from plotly.subplots import make_subplots\n"
      ]
    },
    {
      "cell_type": "markdown",
      "id": "8b9f4cac-68fd-4dc9-a015-641f6fb6ad4e",
      "metadata": {
        "id": "8b9f4cac-68fd-4dc9-a015-641f6fb6ad4e"
      },
      "source": [
        "## Welcome to the Queue quiz\n",
        "\n",
        "### You are now incharge of the a queueing system in your work place. Your factory works 24/7 and creates flawless semi-conducter chips.\n",
        "\n",
        "### Jobs are arriving with a constant rate, on average one every 12 seconds. However, the service times changes with time. We split the week into a 168 grid, where we have 7 days and 24 hours within a single day. For each cell in the grid, that is a combination of a day and an hour we have different service rate.\n"
      ]
    },
    {
      "cell_type": "markdown",
      "id": "eaeccfdb-855b-42da-9db8-7e2d66277820",
      "metadata": {
        "id": "eaeccfdb-855b-42da-9db8-7e2d66277820"
      },
      "source": [
        "## Part 1:\n",
        "\n",
        "### We first focus on a single service time of a single cell in the grid. Being more specific, Monday from 08:00 to 09:00.\n",
        "### In event_log_single_ser below you have pandas dataframe with the eventlog of this specific cell.\n",
        "\n",
        "### Your jobs is to understand what is the average service time and its distirbution using Bayesian analysis."
      ]
    },
    {
      "cell_type": "code",
      "execution_count": 3,
      "id": "d94aee4f-4846-471e-872e-f1840c814af0",
      "metadata": {
        "tags": [],
        "id": "d94aee4f-4846-471e-872e-f1840c814af0",
        "outputId": "18a5232c-969e-4d4f-bc5c-43c48067d84e",
        "colab": {
          "base_uri": "https://localhost:8080/",
          "height": 206
        }
      },
      "outputs": [
        {
          "output_type": "execute_result",
          "data": {
            "text/plain": [
              "   customer_id  num_cust          event  time_stamp  day  hour\n",
              "0            0         0        Arrival   30.105252    2     8\n",
              "1            0         1  Enter_service   30.105252    2     8\n",
              "2            0         0      Departure   37.798838    2     8\n",
              "3            1         0        Arrival   38.750399    2     8\n",
              "4            1         1  Enter_service   38.750399    2     8"
            ],
            "text/html": [
              "\n",
              "  <div id=\"df-f2978dc7-1c78-44f5-9da1-ed541103e6a4\" class=\"colab-df-container\">\n",
              "    <div>\n",
              "<style scoped>\n",
              "    .dataframe tbody tr th:only-of-type {\n",
              "        vertical-align: middle;\n",
              "    }\n",
              "\n",
              "    .dataframe tbody tr th {\n",
              "        vertical-align: top;\n",
              "    }\n",
              "\n",
              "    .dataframe thead th {\n",
              "        text-align: right;\n",
              "    }\n",
              "</style>\n",
              "<table border=\"1\" class=\"dataframe\">\n",
              "  <thead>\n",
              "    <tr style=\"text-align: right;\">\n",
              "      <th></th>\n",
              "      <th>customer_id</th>\n",
              "      <th>num_cust</th>\n",
              "      <th>event</th>\n",
              "      <th>time_stamp</th>\n",
              "      <th>day</th>\n",
              "      <th>hour</th>\n",
              "    </tr>\n",
              "  </thead>\n",
              "  <tbody>\n",
              "    <tr>\n",
              "      <th>0</th>\n",
              "      <td>0</td>\n",
              "      <td>0</td>\n",
              "      <td>Arrival</td>\n",
              "      <td>30.105252</td>\n",
              "      <td>2</td>\n",
              "      <td>8</td>\n",
              "    </tr>\n",
              "    <tr>\n",
              "      <th>1</th>\n",
              "      <td>0</td>\n",
              "      <td>1</td>\n",
              "      <td>Enter_service</td>\n",
              "      <td>30.105252</td>\n",
              "      <td>2</td>\n",
              "      <td>8</td>\n",
              "    </tr>\n",
              "    <tr>\n",
              "      <th>2</th>\n",
              "      <td>0</td>\n",
              "      <td>0</td>\n",
              "      <td>Departure</td>\n",
              "      <td>37.798838</td>\n",
              "      <td>2</td>\n",
              "      <td>8</td>\n",
              "    </tr>\n",
              "    <tr>\n",
              "      <th>3</th>\n",
              "      <td>1</td>\n",
              "      <td>0</td>\n",
              "      <td>Arrival</td>\n",
              "      <td>38.750399</td>\n",
              "      <td>2</td>\n",
              "      <td>8</td>\n",
              "    </tr>\n",
              "    <tr>\n",
              "      <th>4</th>\n",
              "      <td>1</td>\n",
              "      <td>1</td>\n",
              "      <td>Enter_service</td>\n",
              "      <td>38.750399</td>\n",
              "      <td>2</td>\n",
              "      <td>8</td>\n",
              "    </tr>\n",
              "  </tbody>\n",
              "</table>\n",
              "</div>\n",
              "    <div class=\"colab-df-buttons\">\n",
              "\n",
              "  <div class=\"colab-df-container\">\n",
              "    <button class=\"colab-df-convert\" onclick=\"convertToInteractive('df-f2978dc7-1c78-44f5-9da1-ed541103e6a4')\"\n",
              "            title=\"Convert this dataframe to an interactive table.\"\n",
              "            style=\"display:none;\">\n",
              "\n",
              "  <svg xmlns=\"http://www.w3.org/2000/svg\" height=\"24px\" viewBox=\"0 -960 960 960\">\n",
              "    <path d=\"M120-120v-720h720v720H120Zm60-500h600v-160H180v160Zm220 220h160v-160H400v160Zm0 220h160v-160H400v160ZM180-400h160v-160H180v160Zm440 0h160v-160H620v160ZM180-180h160v-160H180v160Zm440 0h160v-160H620v160Z\"/>\n",
              "  </svg>\n",
              "    </button>\n",
              "\n",
              "  <style>\n",
              "    .colab-df-container {\n",
              "      display:flex;\n",
              "      gap: 12px;\n",
              "    }\n",
              "\n",
              "    .colab-df-convert {\n",
              "      background-color: #E8F0FE;\n",
              "      border: none;\n",
              "      border-radius: 50%;\n",
              "      cursor: pointer;\n",
              "      display: none;\n",
              "      fill: #1967D2;\n",
              "      height: 32px;\n",
              "      padding: 0 0 0 0;\n",
              "      width: 32px;\n",
              "    }\n",
              "\n",
              "    .colab-df-convert:hover {\n",
              "      background-color: #E2EBFA;\n",
              "      box-shadow: 0px 1px 2px rgba(60, 64, 67, 0.3), 0px 1px 3px 1px rgba(60, 64, 67, 0.15);\n",
              "      fill: #174EA6;\n",
              "    }\n",
              "\n",
              "    .colab-df-buttons div {\n",
              "      margin-bottom: 4px;\n",
              "    }\n",
              "\n",
              "    [theme=dark] .colab-df-convert {\n",
              "      background-color: #3B4455;\n",
              "      fill: #D2E3FC;\n",
              "    }\n",
              "\n",
              "    [theme=dark] .colab-df-convert:hover {\n",
              "      background-color: #434B5C;\n",
              "      box-shadow: 0px 1px 3px 1px rgba(0, 0, 0, 0.15);\n",
              "      filter: drop-shadow(0px 1px 2px rgba(0, 0, 0, 0.3));\n",
              "      fill: #FFFFFF;\n",
              "    }\n",
              "  </style>\n",
              "\n",
              "    <script>\n",
              "      const buttonEl =\n",
              "        document.querySelector('#df-f2978dc7-1c78-44f5-9da1-ed541103e6a4 button.colab-df-convert');\n",
              "      buttonEl.style.display =\n",
              "        google.colab.kernel.accessAllowed ? 'block' : 'none';\n",
              "\n",
              "      async function convertToInteractive(key) {\n",
              "        const element = document.querySelector('#df-f2978dc7-1c78-44f5-9da1-ed541103e6a4');\n",
              "        const dataTable =\n",
              "          await google.colab.kernel.invokeFunction('convertToInteractive',\n",
              "                                                    [key], {});\n",
              "        if (!dataTable) return;\n",
              "\n",
              "        const docLinkHtml = 'Like what you see? Visit the ' +\n",
              "          '<a target=\"_blank\" href=https://colab.research.google.com/notebooks/data_table.ipynb>data table notebook</a>'\n",
              "          + ' to learn more about interactive tables.';\n",
              "        element.innerHTML = '';\n",
              "        dataTable['output_type'] = 'display_data';\n",
              "        await google.colab.output.renderOutput(dataTable, element);\n",
              "        const docLink = document.createElement('div');\n",
              "        docLink.innerHTML = docLinkHtml;\n",
              "        element.appendChild(docLink);\n",
              "      }\n",
              "    </script>\n",
              "  </div>\n",
              "\n",
              "\n",
              "<div id=\"df-6740f9f5-a75c-4145-8de8-962a6b12ecd2\">\n",
              "  <button class=\"colab-df-quickchart\" onclick=\"quickchart('df-6740f9f5-a75c-4145-8de8-962a6b12ecd2')\"\n",
              "            title=\"Suggest charts\"\n",
              "            style=\"display:none;\">\n",
              "\n",
              "<svg xmlns=\"http://www.w3.org/2000/svg\" height=\"24px\"viewBox=\"0 0 24 24\"\n",
              "     width=\"24px\">\n",
              "    <g>\n",
              "        <path d=\"M19 3H5c-1.1 0-2 .9-2 2v14c0 1.1.9 2 2 2h14c1.1 0 2-.9 2-2V5c0-1.1-.9-2-2-2zM9 17H7v-7h2v7zm4 0h-2V7h2v10zm4 0h-2v-4h2v4z\"/>\n",
              "    </g>\n",
              "</svg>\n",
              "  </button>\n",
              "\n",
              "<style>\n",
              "  .colab-df-quickchart {\n",
              "      --bg-color: #E8F0FE;\n",
              "      --fill-color: #1967D2;\n",
              "      --hover-bg-color: #E2EBFA;\n",
              "      --hover-fill-color: #174EA6;\n",
              "      --disabled-fill-color: #AAA;\n",
              "      --disabled-bg-color: #DDD;\n",
              "  }\n",
              "\n",
              "  [theme=dark] .colab-df-quickchart {\n",
              "      --bg-color: #3B4455;\n",
              "      --fill-color: #D2E3FC;\n",
              "      --hover-bg-color: #434B5C;\n",
              "      --hover-fill-color: #FFFFFF;\n",
              "      --disabled-bg-color: #3B4455;\n",
              "      --disabled-fill-color: #666;\n",
              "  }\n",
              "\n",
              "  .colab-df-quickchart {\n",
              "    background-color: var(--bg-color);\n",
              "    border: none;\n",
              "    border-radius: 50%;\n",
              "    cursor: pointer;\n",
              "    display: none;\n",
              "    fill: var(--fill-color);\n",
              "    height: 32px;\n",
              "    padding: 0;\n",
              "    width: 32px;\n",
              "  }\n",
              "\n",
              "  .colab-df-quickchart:hover {\n",
              "    background-color: var(--hover-bg-color);\n",
              "    box-shadow: 0 1px 2px rgba(60, 64, 67, 0.3), 0 1px 3px 1px rgba(60, 64, 67, 0.15);\n",
              "    fill: var(--button-hover-fill-color);\n",
              "  }\n",
              "\n",
              "  .colab-df-quickchart-complete:disabled,\n",
              "  .colab-df-quickchart-complete:disabled:hover {\n",
              "    background-color: var(--disabled-bg-color);\n",
              "    fill: var(--disabled-fill-color);\n",
              "    box-shadow: none;\n",
              "  }\n",
              "\n",
              "  .colab-df-spinner {\n",
              "    border: 2px solid var(--fill-color);\n",
              "    border-color: transparent;\n",
              "    border-bottom-color: var(--fill-color);\n",
              "    animation:\n",
              "      spin 1s steps(1) infinite;\n",
              "  }\n",
              "\n",
              "  @keyframes spin {\n",
              "    0% {\n",
              "      border-color: transparent;\n",
              "      border-bottom-color: var(--fill-color);\n",
              "      border-left-color: var(--fill-color);\n",
              "    }\n",
              "    20% {\n",
              "      border-color: transparent;\n",
              "      border-left-color: var(--fill-color);\n",
              "      border-top-color: var(--fill-color);\n",
              "    }\n",
              "    30% {\n",
              "      border-color: transparent;\n",
              "      border-left-color: var(--fill-color);\n",
              "      border-top-color: var(--fill-color);\n",
              "      border-right-color: var(--fill-color);\n",
              "    }\n",
              "    40% {\n",
              "      border-color: transparent;\n",
              "      border-right-color: var(--fill-color);\n",
              "      border-top-color: var(--fill-color);\n",
              "    }\n",
              "    60% {\n",
              "      border-color: transparent;\n",
              "      border-right-color: var(--fill-color);\n",
              "    }\n",
              "    80% {\n",
              "      border-color: transparent;\n",
              "      border-right-color: var(--fill-color);\n",
              "      border-bottom-color: var(--fill-color);\n",
              "    }\n",
              "    90% {\n",
              "      border-color: transparent;\n",
              "      border-bottom-color: var(--fill-color);\n",
              "    }\n",
              "  }\n",
              "</style>\n",
              "\n",
              "  <script>\n",
              "    async function quickchart(key) {\n",
              "      const quickchartButtonEl =\n",
              "        document.querySelector('#' + key + ' button');\n",
              "      quickchartButtonEl.disabled = true;  // To prevent multiple clicks.\n",
              "      quickchartButtonEl.classList.add('colab-df-spinner');\n",
              "      try {\n",
              "        const charts = await google.colab.kernel.invokeFunction(\n",
              "            'suggestCharts', [key], {});\n",
              "      } catch (error) {\n",
              "        console.error('Error during call to suggestCharts:', error);\n",
              "      }\n",
              "      quickchartButtonEl.classList.remove('colab-df-spinner');\n",
              "      quickchartButtonEl.classList.add('colab-df-quickchart-complete');\n",
              "    }\n",
              "    (() => {\n",
              "      let quickchartButtonEl =\n",
              "        document.querySelector('#df-6740f9f5-a75c-4145-8de8-962a6b12ecd2 button');\n",
              "      quickchartButtonEl.style.display =\n",
              "        google.colab.kernel.accessAllowed ? 'block' : 'none';\n",
              "    })();\n",
              "  </script>\n",
              "</div>\n",
              "\n",
              "    </div>\n",
              "  </div>\n"
            ],
            "application/vnd.google.colaboratory.intrinsic+json": {
              "type": "dataframe",
              "variable_name": "event_log_single_ser",
              "summary": "{\n  \"name\": \"event_log_single_ser\",\n  \"rows\": 2189,\n  \"fields\": [\n    {\n      \"column\": \"customer_id\",\n      \"properties\": {\n        \"dtype\": \"number\",\n        \"std\": 210,\n        \"min\": 0,\n        \"max\": 731,\n        \"num_unique_values\": 732,\n        \"samples\": [\n          604,\n          33,\n          300\n        ],\n        \"semantic_type\": \"\",\n        \"description\": \"\"\n      }\n    },\n    {\n      \"column\": \"num_cust\",\n      \"properties\": {\n        \"dtype\": \"number\",\n        \"std\": 7,\n        \"min\": 0,\n        \"max\": 30,\n        \"num_unique_values\": 31,\n        \"samples\": [\n          27,\n          15,\n          23\n        ],\n        \"semantic_type\": \"\",\n        \"description\": \"\"\n      }\n    },\n    {\n      \"column\": \"event\",\n      \"properties\": {\n        \"dtype\": \"category\",\n        \"num_unique_values\": 3,\n        \"samples\": [\n          \"Arrival\",\n          \"Enter_service\",\n          \"Departure\"\n        ],\n        \"semantic_type\": \"\",\n        \"description\": \"\"\n      }\n    },\n    {\n      \"column\": \"time_stamp\",\n      \"properties\": {\n        \"dtype\": \"number\",\n        \"std\": 2484.9939968237045,\n        \"min\": 30.105251926144522,\n        \"max\": 8638.713687991481,\n        \"num_unique_values\": 1460,\n        \"samples\": [\n          5327.37948635845,\n          6495.060382466835,\n          2300.0332126656626\n        ],\n        \"semantic_type\": \"\",\n        \"description\": \"\"\n      }\n    },\n    {\n      \"column\": \"day\",\n      \"properties\": {\n        \"dtype\": \"number\",\n        \"std\": 0,\n        \"min\": 2,\n        \"max\": 2,\n        \"num_unique_values\": 1,\n        \"samples\": [\n          2\n        ],\n        \"semantic_type\": \"\",\n        \"description\": \"\"\n      }\n    },\n    {\n      \"column\": \"hour\",\n      \"properties\": {\n        \"dtype\": \"number\",\n        \"std\": 0,\n        \"min\": 8,\n        \"max\": 8,\n        \"num_unique_values\": 1,\n        \"samples\": [\n          8\n        ],\n        \"semantic_type\": \"\",\n        \"description\": \"\"\n      }\n    }\n  ]\n}"
            }
          },
          "metadata": {},
          "execution_count": 3
        }
      ],
      "source": [
        "event_log_single_ser = pkl.load(open('/content/bayesian-model/event_log_single_ser.pkl', 'rb'))\n",
        "event_log_single_ser.head()"
      ]
    },
    {
      "cell_type": "code",
      "source": [
        "event_log_single_ser.to_csv('event_log_single_ser.csv')"
      ],
      "metadata": {
        "id": "bneq-3f7pAt2"
      },
      "id": "bneq-3f7pAt2",
      "execution_count": 5,
      "outputs": []
    },
    {
      "cell_type": "markdown",
      "id": "77f989c5-8d61-4a3c-abe1-c5f5b94f0504",
      "metadata": {
        "id": "77f989c5-8d61-4a3c-abe1-c5f5b94f0504"
      },
      "source": [
        "## Explanation about the dataframe columns:\n",
        "\n",
        "### 1. customer_id: the id of customer, each customer has is own id.\n",
        "### 2. num_cust: the number of customers in the system (including service) prior to the event.\n",
        "### 3. event: there three type of events: arrival, entering service and departing the system.\n",
        "### 4. Timestamp: The total time elapased since hour 0 day 1 in seconds.\n",
        "### 6. day: the day of the week from 1 to 7 where 1 is Sunday.\n",
        "### 7. hour: the hour of the day 0-23, where 0 is midnight."
      ]
    },
    {
      "cell_type": "markdown",
      "id": "b912f6bb-a255-4118-8883-9f48e2955324",
      "metadata": {
        "id": "b912f6bb-a255-4118-8883-9f48e2955324"
      },
      "source": [
        "## Tasks:\n",
        "\n",
        "### 1. Do Bayesian anaysis for the average service rate and its distirbution.\n",
        "### 2. What did you use as the likelihood function and why?\n",
        "### 3. Do  posterior predicitive anaysis to assert that the chosen likelihood distribution is valid.\n",
        "### 4. According to the resulted anaysis, how certain are you about the average service prediction?"
      ]
    },
    {
      "cell_type": "markdown",
      "id": "60dbf415-3eb3-476b-82a0-5a58e7115c6a",
      "metadata": {
        "id": "60dbf415-3eb3-476b-82a0-5a58e7115c6a"
      },
      "source": [
        "## Answers and code"
      ]
    },
    {
      "cell_type": "markdown",
      "source": [
        "### 1. Do Bayesian anaysis for the average service rate and its distirbution.\n"
      ],
      "metadata": {
        "id": "Kj8Pbd6oG9g-"
      },
      "id": "Kj8Pbd6oG9g-"
    },
    {
      "cell_type": "markdown",
      "source": [
        "### pre - proccesing"
      ],
      "metadata": {
        "id": "uvPAtVhkwB6S"
      },
      "id": "uvPAtVhkwB6S"
    },
    {
      "cell_type": "code",
      "execution_count": 8,
      "id": "98158f5b-430c-4474-aa0b-5abf8810d8cc",
      "metadata": {
        "id": "98158f5b-430c-4474-aa0b-5abf8810d8cc",
        "colab": {
          "base_uri": "https://localhost:8080/",
          "height": 206
        },
        "outputId": "02766aba-6028-4476-ef55-7a81fc7b4b23"
      },
      "outputs": [
        {
          "output_type": "execute_result",
          "data": {
            "text/plain": [
              "   customer_id  service_time\n",
              "0            0      7.693586\n",
              "1            1     10.833411\n",
              "2            2      2.347220\n",
              "3            3      1.187283\n",
              "4            4     16.139319"
            ],
            "text/html": [
              "\n",
              "  <div id=\"df-28ec2cf5-8b5d-4c61-a85d-30ffa386b641\" class=\"colab-df-container\">\n",
              "    <div>\n",
              "<style scoped>\n",
              "    .dataframe tbody tr th:only-of-type {\n",
              "        vertical-align: middle;\n",
              "    }\n",
              "\n",
              "    .dataframe tbody tr th {\n",
              "        vertical-align: top;\n",
              "    }\n",
              "\n",
              "    .dataframe thead th {\n",
              "        text-align: right;\n",
              "    }\n",
              "</style>\n",
              "<table border=\"1\" class=\"dataframe\">\n",
              "  <thead>\n",
              "    <tr style=\"text-align: right;\">\n",
              "      <th></th>\n",
              "      <th>customer_id</th>\n",
              "      <th>service_time</th>\n",
              "    </tr>\n",
              "  </thead>\n",
              "  <tbody>\n",
              "    <tr>\n",
              "      <th>0</th>\n",
              "      <td>0</td>\n",
              "      <td>7.693586</td>\n",
              "    </tr>\n",
              "    <tr>\n",
              "      <th>1</th>\n",
              "      <td>1</td>\n",
              "      <td>10.833411</td>\n",
              "    </tr>\n",
              "    <tr>\n",
              "      <th>2</th>\n",
              "      <td>2</td>\n",
              "      <td>2.347220</td>\n",
              "    </tr>\n",
              "    <tr>\n",
              "      <th>3</th>\n",
              "      <td>3</td>\n",
              "      <td>1.187283</td>\n",
              "    </tr>\n",
              "    <tr>\n",
              "      <th>4</th>\n",
              "      <td>4</td>\n",
              "      <td>16.139319</td>\n",
              "    </tr>\n",
              "  </tbody>\n",
              "</table>\n",
              "</div>\n",
              "    <div class=\"colab-df-buttons\">\n",
              "\n",
              "  <div class=\"colab-df-container\">\n",
              "    <button class=\"colab-df-convert\" onclick=\"convertToInteractive('df-28ec2cf5-8b5d-4c61-a85d-30ffa386b641')\"\n",
              "            title=\"Convert this dataframe to an interactive table.\"\n",
              "            style=\"display:none;\">\n",
              "\n",
              "  <svg xmlns=\"http://www.w3.org/2000/svg\" height=\"24px\" viewBox=\"0 -960 960 960\">\n",
              "    <path d=\"M120-120v-720h720v720H120Zm60-500h600v-160H180v160Zm220 220h160v-160H400v160Zm0 220h160v-160H400v160ZM180-400h160v-160H180v160Zm440 0h160v-160H620v160ZM180-180h160v-160H180v160Zm440 0h160v-160H620v160Z\"/>\n",
              "  </svg>\n",
              "    </button>\n",
              "\n",
              "  <style>\n",
              "    .colab-df-container {\n",
              "      display:flex;\n",
              "      gap: 12px;\n",
              "    }\n",
              "\n",
              "    .colab-df-convert {\n",
              "      background-color: #E8F0FE;\n",
              "      border: none;\n",
              "      border-radius: 50%;\n",
              "      cursor: pointer;\n",
              "      display: none;\n",
              "      fill: #1967D2;\n",
              "      height: 32px;\n",
              "      padding: 0 0 0 0;\n",
              "      width: 32px;\n",
              "    }\n",
              "\n",
              "    .colab-df-convert:hover {\n",
              "      background-color: #E2EBFA;\n",
              "      box-shadow: 0px 1px 2px rgba(60, 64, 67, 0.3), 0px 1px 3px 1px rgba(60, 64, 67, 0.15);\n",
              "      fill: #174EA6;\n",
              "    }\n",
              "\n",
              "    .colab-df-buttons div {\n",
              "      margin-bottom: 4px;\n",
              "    }\n",
              "\n",
              "    [theme=dark] .colab-df-convert {\n",
              "      background-color: #3B4455;\n",
              "      fill: #D2E3FC;\n",
              "    }\n",
              "\n",
              "    [theme=dark] .colab-df-convert:hover {\n",
              "      background-color: #434B5C;\n",
              "      box-shadow: 0px 1px 3px 1px rgba(0, 0, 0, 0.15);\n",
              "      filter: drop-shadow(0px 1px 2px rgba(0, 0, 0, 0.3));\n",
              "      fill: #FFFFFF;\n",
              "    }\n",
              "  </style>\n",
              "\n",
              "    <script>\n",
              "      const buttonEl =\n",
              "        document.querySelector('#df-28ec2cf5-8b5d-4c61-a85d-30ffa386b641 button.colab-df-convert');\n",
              "      buttonEl.style.display =\n",
              "        google.colab.kernel.accessAllowed ? 'block' : 'none';\n",
              "\n",
              "      async function convertToInteractive(key) {\n",
              "        const element = document.querySelector('#df-28ec2cf5-8b5d-4c61-a85d-30ffa386b641');\n",
              "        const dataTable =\n",
              "          await google.colab.kernel.invokeFunction('convertToInteractive',\n",
              "                                                    [key], {});\n",
              "        if (!dataTable) return;\n",
              "\n",
              "        const docLinkHtml = 'Like what you see? Visit the ' +\n",
              "          '<a target=\"_blank\" href=https://colab.research.google.com/notebooks/data_table.ipynb>data table notebook</a>'\n",
              "          + ' to learn more about interactive tables.';\n",
              "        element.innerHTML = '';\n",
              "        dataTable['output_type'] = 'display_data';\n",
              "        await google.colab.output.renderOutput(dataTable, element);\n",
              "        const docLink = document.createElement('div');\n",
              "        docLink.innerHTML = docLinkHtml;\n",
              "        element.appendChild(docLink);\n",
              "      }\n",
              "    </script>\n",
              "  </div>\n",
              "\n",
              "\n",
              "<div id=\"df-46e3a039-55d2-44ed-bd1d-412ed34cb286\">\n",
              "  <button class=\"colab-df-quickchart\" onclick=\"quickchart('df-46e3a039-55d2-44ed-bd1d-412ed34cb286')\"\n",
              "            title=\"Suggest charts\"\n",
              "            style=\"display:none;\">\n",
              "\n",
              "<svg xmlns=\"http://www.w3.org/2000/svg\" height=\"24px\"viewBox=\"0 0 24 24\"\n",
              "     width=\"24px\">\n",
              "    <g>\n",
              "        <path d=\"M19 3H5c-1.1 0-2 .9-2 2v14c0 1.1.9 2 2 2h14c1.1 0 2-.9 2-2V5c0-1.1-.9-2-2-2zM9 17H7v-7h2v7zm4 0h-2V7h2v10zm4 0h-2v-4h2v4z\"/>\n",
              "    </g>\n",
              "</svg>\n",
              "  </button>\n",
              "\n",
              "<style>\n",
              "  .colab-df-quickchart {\n",
              "      --bg-color: #E8F0FE;\n",
              "      --fill-color: #1967D2;\n",
              "      --hover-bg-color: #E2EBFA;\n",
              "      --hover-fill-color: #174EA6;\n",
              "      --disabled-fill-color: #AAA;\n",
              "      --disabled-bg-color: #DDD;\n",
              "  }\n",
              "\n",
              "  [theme=dark] .colab-df-quickchart {\n",
              "      --bg-color: #3B4455;\n",
              "      --fill-color: #D2E3FC;\n",
              "      --hover-bg-color: #434B5C;\n",
              "      --hover-fill-color: #FFFFFF;\n",
              "      --disabled-bg-color: #3B4455;\n",
              "      --disabled-fill-color: #666;\n",
              "  }\n",
              "\n",
              "  .colab-df-quickchart {\n",
              "    background-color: var(--bg-color);\n",
              "    border: none;\n",
              "    border-radius: 50%;\n",
              "    cursor: pointer;\n",
              "    display: none;\n",
              "    fill: var(--fill-color);\n",
              "    height: 32px;\n",
              "    padding: 0;\n",
              "    width: 32px;\n",
              "  }\n",
              "\n",
              "  .colab-df-quickchart:hover {\n",
              "    background-color: var(--hover-bg-color);\n",
              "    box-shadow: 0 1px 2px rgba(60, 64, 67, 0.3), 0 1px 3px 1px rgba(60, 64, 67, 0.15);\n",
              "    fill: var(--button-hover-fill-color);\n",
              "  }\n",
              "\n",
              "  .colab-df-quickchart-complete:disabled,\n",
              "  .colab-df-quickchart-complete:disabled:hover {\n",
              "    background-color: var(--disabled-bg-color);\n",
              "    fill: var(--disabled-fill-color);\n",
              "    box-shadow: none;\n",
              "  }\n",
              "\n",
              "  .colab-df-spinner {\n",
              "    border: 2px solid var(--fill-color);\n",
              "    border-color: transparent;\n",
              "    border-bottom-color: var(--fill-color);\n",
              "    animation:\n",
              "      spin 1s steps(1) infinite;\n",
              "  }\n",
              "\n",
              "  @keyframes spin {\n",
              "    0% {\n",
              "      border-color: transparent;\n",
              "      border-bottom-color: var(--fill-color);\n",
              "      border-left-color: var(--fill-color);\n",
              "    }\n",
              "    20% {\n",
              "      border-color: transparent;\n",
              "      border-left-color: var(--fill-color);\n",
              "      border-top-color: var(--fill-color);\n",
              "    }\n",
              "    30% {\n",
              "      border-color: transparent;\n",
              "      border-left-color: var(--fill-color);\n",
              "      border-top-color: var(--fill-color);\n",
              "      border-right-color: var(--fill-color);\n",
              "    }\n",
              "    40% {\n",
              "      border-color: transparent;\n",
              "      border-right-color: var(--fill-color);\n",
              "      border-top-color: var(--fill-color);\n",
              "    }\n",
              "    60% {\n",
              "      border-color: transparent;\n",
              "      border-right-color: var(--fill-color);\n",
              "    }\n",
              "    80% {\n",
              "      border-color: transparent;\n",
              "      border-right-color: var(--fill-color);\n",
              "      border-bottom-color: var(--fill-color);\n",
              "    }\n",
              "    90% {\n",
              "      border-color: transparent;\n",
              "      border-bottom-color: var(--fill-color);\n",
              "    }\n",
              "  }\n",
              "</style>\n",
              "\n",
              "  <script>\n",
              "    async function quickchart(key) {\n",
              "      const quickchartButtonEl =\n",
              "        document.querySelector('#' + key + ' button');\n",
              "      quickchartButtonEl.disabled = true;  // To prevent multiple clicks.\n",
              "      quickchartButtonEl.classList.add('colab-df-spinner');\n",
              "      try {\n",
              "        const charts = await google.colab.kernel.invokeFunction(\n",
              "            'suggestCharts', [key], {});\n",
              "      } catch (error) {\n",
              "        console.error('Error during call to suggestCharts:', error);\n",
              "      }\n",
              "      quickchartButtonEl.classList.remove('colab-df-spinner');\n",
              "      quickchartButtonEl.classList.add('colab-df-quickchart-complete');\n",
              "    }\n",
              "    (() => {\n",
              "      let quickchartButtonEl =\n",
              "        document.querySelector('#df-46e3a039-55d2-44ed-bd1d-412ed34cb286 button');\n",
              "      quickchartButtonEl.style.display =\n",
              "        google.colab.kernel.accessAllowed ? 'block' : 'none';\n",
              "    })();\n",
              "  </script>\n",
              "</div>\n",
              "\n",
              "    </div>\n",
              "  </div>\n"
            ],
            "application/vnd.google.colaboratory.intrinsic+json": {
              "type": "dataframe",
              "variable_name": "service_times_df",
              "summary": "{\n  \"name\": \"service_times_df\",\n  \"rows\": 728,\n  \"fields\": [\n    {\n      \"column\": \"customer_id\",\n      \"properties\": {\n        \"dtype\": \"number\",\n        \"std\": 210,\n        \"min\": 0,\n        \"max\": 727,\n        \"num_unique_values\": 728,\n        \"samples\": [\n          39,\n          335,\n          326\n        ],\n        \"semantic_type\": \"\",\n        \"description\": \"\"\n      }\n    },\n    {\n      \"column\": \"service_time\",\n      \"properties\": {\n        \"dtype\": \"number\",\n        \"std\": 10.316508476420504,\n        \"min\": 0.009851451095528319,\n        \"max\": 61.48839198968744,\n        \"num_unique_values\": 728,\n        \"samples\": [\n          20.60889978690642,\n          19.637693412446424,\n          20.68832288243766\n        ],\n        \"semantic_type\": \"\",\n        \"description\": \"\"\n      }\n    }\n  ]\n}"
            }
          },
          "metadata": {},
          "execution_count": 8
        }
      ],
      "source": [
        "# Filter out the relevant events\n",
        "service_start = event_log_single_ser[event_log_single_ser['event'] == 'Enter_service']\n",
        "service_end = event_log_single_ser[event_log_single_ser['event'] == 'Departure']\n",
        "\n",
        "# Ensure the data is sorted by customer_id and time_stamp\n",
        "service_start = service_start.sort_values(by=['customer_id', 'time_stamp'])\n",
        "service_end = service_end.sort_values(by=['customer_id', 'time_stamp'])\n",
        "\n",
        "# Merge service start and end events on customer_id to ensure matching\n",
        "merged_events = pd.merge(service_start, service_end, on='customer_id', suffixes=('_start', '_end'))\n",
        "\n",
        "# Calculate service times\n",
        "merged_events['service_time'] = merged_events['time_stamp_end'] - merged_events['time_stamp_start']\n",
        "\n",
        "# Create a DataFrame for the service times\n",
        "service_times_df = merged_events[['customer_id', 'service_time']]\n",
        "\n",
        "# Display the first few rows of the service times dataframe\n",
        "service_times_df.head()"
      ]
    },
    {
      "cell_type": "code",
      "source": [
        "import pymc as pm\n",
        "import arviz as az\n",
        "import numpy as np\n",
        "\n",
        "# Ensure the service rates are in a NumPy array\n",
        "service_rates = np.array(1 / merged_events['service_time'])\n",
        "\n",
        "with pm.Model() as model:\n",
        "    # Prior for the rate parameter of the Exponential distribution\n",
        "    lambda_prior = pm.Gamma('lambda_prior', alpha=2, beta=2)\n",
        "\n",
        "    # Likelihood: Assuming the service times follow an Exponential distribution\n",
        "    likelihood = pm.Exponential('likelihood', lam=lambda_prior, observed=service_rates)\n",
        "\n",
        "    # Perform the sampling\n",
        "    trace = pm.sample(1000, return_inferencedata=True)  # Return as InferenceData\n",
        "\n",
        "# Summarize the posterior distribution using ArviZ\n",
        "summary = az.summary(trace)\n",
        "print(summary)\n"
      ],
      "metadata": {
        "colab": {
          "base_uri": "https://localhost:8080/",
          "height": 149
        },
        "id": "WczObcbeqDBq",
        "outputId": "74099b41-c5c4-4068-aef2-357e071c90d9"
      },
      "id": "WczObcbeqDBq",
      "execution_count": 24,
      "outputs": [
        {
          "output_type": "display_data",
          "data": {
            "text/plain": [
              "<IPython.core.display.HTML object>"
            ],
            "text/html": [
              "\n",
              "<style>\n",
              "    /* Turns off some styling */\n",
              "    progress {\n",
              "        /* gets rid of default border in Firefox and Opera. */\n",
              "        border: none;\n",
              "        /* Needs to be in here for Safari polyfill so background images work as expected. */\n",
              "        background-size: auto;\n",
              "    }\n",
              "    progress:not([value]), progress:not([value])::-webkit-progress-bar {\n",
              "        background: repeating-linear-gradient(45deg, #7e7e7e, #7e7e7e 10px, #5c5c5c 10px, #5c5c5c 20px);\n",
              "    }\n",
              "    .progress-bar-interrupted, .progress-bar-interrupted::-webkit-progress-bar {\n",
              "        background: #F44336;\n",
              "    }\n",
              "</style>\n"
            ]
          },
          "metadata": {}
        },
        {
          "output_type": "display_data",
          "data": {
            "text/plain": [
              "<IPython.core.display.HTML object>"
            ],
            "text/html": [
              "\n",
              "    <div>\n",
              "      <progress value='2000' class='' max='2000' style='width:300px; height:20px; vertical-align: middle;'></progress>\n",
              "      100.00% [2000/2000 00:01&lt;00:00 Sampling chain 0, 0 divergences]\n",
              "    </div>\n",
              "    "
            ]
          },
          "metadata": {}
        },
        {
          "output_type": "display_data",
          "data": {
            "text/plain": [
              "<IPython.core.display.HTML object>"
            ],
            "text/html": [
              "\n",
              "<style>\n",
              "    /* Turns off some styling */\n",
              "    progress {\n",
              "        /* gets rid of default border in Firefox and Opera. */\n",
              "        border: none;\n",
              "        /* Needs to be in here for Safari polyfill so background images work as expected. */\n",
              "        background-size: auto;\n",
              "    }\n",
              "    progress:not([value]), progress:not([value])::-webkit-progress-bar {\n",
              "        background: repeating-linear-gradient(45deg, #7e7e7e, #7e7e7e 10px, #5c5c5c 10px, #5c5c5c 20px);\n",
              "    }\n",
              "    .progress-bar-interrupted, .progress-bar-interrupted::-webkit-progress-bar {\n",
              "        background: #F44336;\n",
              "    }\n",
              "</style>\n"
            ]
          },
          "metadata": {}
        },
        {
          "output_type": "display_data",
          "data": {
            "text/plain": [
              "<IPython.core.display.HTML object>"
            ],
            "text/html": [
              "\n",
              "    <div>\n",
              "      <progress value='2000' class='' max='2000' style='width:300px; height:20px; vertical-align: middle;'></progress>\n",
              "      100.00% [2000/2000 00:01&lt;00:00 Sampling chain 1, 0 divergences]\n",
              "    </div>\n",
              "    "
            ]
          },
          "metadata": {}
        },
        {
          "output_type": "stream",
          "name": "stdout",
          "text": [
            "              mean     sd  hdi_3%  hdi_97%  mcse_mean  mcse_sd  ess_bulk  \\\n",
            "lambda_prior  1.53  0.056   1.421    1.629      0.002    0.001     713.0   \n",
            "\n",
            "              ess_tail  r_hat  \n",
            "lambda_prior     924.0    1.0  \n"
          ]
        }
      ]
    },
    {
      "cell_type": "code",
      "source": [
        "import arviz as az\n",
        "\n",
        "# Plot the posterior distribution\n",
        "az.plot_posterior(trace, var_names=[\"lambda_prior\"], hdi_prob=0.95)\n"
      ],
      "metadata": {
        "colab": {
          "base_uri": "https://localhost:8080/",
          "height": 476
        },
        "id": "oZesfqj7t03v",
        "outputId": "5a9710a2-1594-4893-8298-83b57a2f6865"
      },
      "id": "oZesfqj7t03v",
      "execution_count": 26,
      "outputs": [
        {
          "output_type": "execute_result",
          "data": {
            "text/plain": [
              "<Axes: title={'center': 'lambda_prior'}>"
            ]
          },
          "metadata": {},
          "execution_count": 26
        },
        {
          "output_type": "display_data",
          "data": {
            "text/plain": [
              "<Figure size 640x480 with 1 Axes>"
            ],
            "image/png": "[encoded data removed]"
          },
          "metadata": {}
        }
      ]
    },
    {
      "cell_type": "markdown",
      "source": [
        "### 2. What did you use as the likelihood function and why?\n"
      ],
      "metadata": {
        "id": "jXfVnM3GIBKh"
      },
      "id": "jXfVnM3GIBKh"
    },
    {
      "cell_type": "markdown",
      "source": [
        "\n",
        "### Likelihood Function Choice\n",
        "\n",
        "For modeling the service times in a queuing system, we often need to select an appropriate likelihood function. Given the nature of the data, which consists of times between events, the Exponential distribution is a suitable choice. Here's why:\n",
        "\n",
        "#### Exponential Distribution as the Likelihood Function\n",
        "\n",
        "1. **Memoryless Property**: The Exponential distribution has a memoryless property, which means the probability of an event occurring in the future is independent of the past. This property aligns well with service times in many queuing systems, where the time until the next event (e.g., the end of a service) does not depend on how much time has already elapsed.\n",
        "\n",
        "2. **Modeling Time Between Events**: The Exponential distribution is commonly used to model the time between events in a Poisson process. In our case, if we assume that the arrival of jobs and their service times follow a Poisson process, the Exponential distribution becomes a natural choice for modeling service times.\n",
        "\n",
        "3. **Simplicity and Interpretability**: The Exponential distribution is parameterized by a single rate parameter $(\\lambda)$, which represents the average rate of events per time unit. This simplicity makes it easy to interpret and use in Bayesian inference, where we update our belief about $(\\lambda)$ based on observed data.\n",
        "\n",
        "\n",
        "#### Posterior Predictive Analysis\n",
        "\n",
        "To validate the choice of the Exponential distribution as the likelihood function, we perform posterior predictive analysis. This involves:\n",
        "1. Sampling from the posterior distribution of $(\\lambda)$.\n",
        "2. Generating new service times from the Exponential distribution using the sampled $(\\lambda)$ values.\n",
        "3. Comparing these generated service times with the observed service times to ensure that the model adequately captures the data's characteristics.\n",
        "\n",
        "By performing this analysis, we can assess the model's fit and our certainty about the average service time prediction.\n"
      ],
      "metadata": {
        "id": "JD-xRbUiIaQ-"
      },
      "id": "JD-xRbUiIaQ-"
    },
    {
      "cell_type": "markdown",
      "source": [
        "### 3. Do  posterior predicitive anaysis to assert that the chosen likelihood distribution is valid."
      ],
      "metadata": {
        "id": "cp2nM8XaJGkT"
      },
      "id": "cp2nM8XaJGkT"
    },
    {
      "cell_type": "code",
      "execution_count": 29,
      "id": "71101020-7ee5-49a5-bb40-67bc644e1d75",
      "metadata": {
        "id": "71101020-7ee5-49a5-bb40-67bc644e1d75",
        "colab": {
          "base_uri": "https://localhost:8080/",
          "height": 57
        },
        "outputId": "7ec366f3-2620-4042-cf65-1562df7b0e16"
      },
      "outputs": [
        {
          "output_type": "display_data",
          "data": {
            "text/plain": [
              "<IPython.core.display.HTML object>"
            ],
            "text/html": [
              "\n",
              "<style>\n",
              "    /* Turns off some styling */\n",
              "    progress {\n",
              "        /* gets rid of default border in Firefox and Opera. */\n",
              "        border: none;\n",
              "        /* Needs to be in here for Safari polyfill so background images work as expected. */\n",
              "        background-size: auto;\n",
              "    }\n",
              "    progress:not([value]), progress:not([value])::-webkit-progress-bar {\n",
              "        background: repeating-linear-gradient(45deg, #7e7e7e, #7e7e7e 10px, #5c5c5c 10px, #5c5c5c 20px);\n",
              "    }\n",
              "    .progress-bar-interrupted, .progress-bar-interrupted::-webkit-progress-bar {\n",
              "        background: #F44336;\n",
              "    }\n",
              "</style>\n"
            ]
          },
          "metadata": {}
        },
        {
          "output_type": "display_data",
          "data": {
            "text/plain": [
              "<IPython.core.display.HTML object>"
            ],
            "text/html": [
              "\n",
              "    <div>\n",
              "      <progress value='3000' class='' max='3000' style='width:300px; height:20px; vertical-align: middle;'></progress>\n",
              "      100.00% [3000/3000 00:01&lt;00:00 Sampling chain 0, 0 divergences]\n",
              "    </div>\n",
              "    "
            ]
          },
          "metadata": {}
        },
        {
          "output_type": "display_data",
          "data": {
            "text/plain": [
              "<IPython.core.display.HTML object>"
            ],
            "text/html": [
              "\n",
              "<style>\n",
              "    /* Turns off some styling */\n",
              "    progress {\n",
              "        /* gets rid of default border in Firefox and Opera. */\n",
              "        border: none;\n",
              "        /* Needs to be in here for Safari polyfill so background images work as expected. */\n",
              "        background-size: auto;\n",
              "    }\n",
              "    progress:not([value]), progress:not([value])::-webkit-progress-bar {\n",
              "        background: repeating-linear-gradient(45deg, #7e7e7e, #7e7e7e 10px, #5c5c5c 10px, #5c5c5c 20px);\n",
              "    }\n",
              "    .progress-bar-interrupted, .progress-bar-interrupted::-webkit-progress-bar {\n",
              "        background: #F44336;\n",
              "    }\n",
              "</style>\n"
            ]
          },
          "metadata": {}
        },
        {
          "output_type": "display_data",
          "data": {
            "text/plain": [
              "<IPython.core.display.HTML object>"
            ],
            "text/html": [
              "\n",
              "    <div>\n",
              "      <progress value='3000' class='' max='3000' style='width:300px; height:20px; vertical-align: middle;'></progress>\n",
              "      100.00% [3000/3000 00:01&lt;00:00 Sampling chain 1, 0 divergences]\n",
              "    </div>\n",
              "    "
            ]
          },
          "metadata": {}
        }
      ],
      "source": [
        "# Observed service times\n",
        "observed_service_times = service_times_df['service_time'].values\n",
        "\n",
        "# Bayesian analysis using PyMC\n",
        "with pm.Model() as model:\n",
        "    # Prior for the rate parameter (lambda) of the Exponential distribution\n",
        "    lambda_prior = pm.Exponential('lambda', 1.0)\n",
        "\n",
        "    # Likelihood function\n",
        "    likelihood = pm.Exponential('likelihood', lam=lambda_prior, observed=observed_service_times)\n",
        "\n",
        "    # Posterior inference\n",
        "    trace = pm.sample(2000, tune=1000, return_inferencedata=True)\n"
      ]
    },
    {
      "cell_type": "code",
      "source": [
        "# Summary statistics of the posterior distribution using ArviZ\n",
        "posterior_summary = az.summary(trace, var_names=['lambda'])\n",
        "\n",
        "print(posterior_summary)\n",
        "\n",
        "# Extract posterior samples\n",
        "lambda_posterior_samples = trace.posterior['lambda'].values.flatten()\n",
        "\n",
        "# Calculate the average service time from the posterior samples\n",
        "average_service_time_posterior_samples = 1 / lambda_posterior_samples\n",
        "\n",
        "print(\"Mean of the average service time:\", average_service_time_posterior_samples.mean())\n",
        "print(\"Standard deviation of the average service time:\", average_service_time_posterior_samples.std())\n",
        "\n",
        "# Posterior Predictive Analysis\n",
        "# Number of posterior predictive samples to generate\n",
        "n_samples = 1000\n",
        "\n",
        "# Generate posterior predictive samples\n",
        "posterior_predictive_samples = []\n",
        "\n",
        "for lam in lambda_posterior_samples:\n",
        "    posterior_predictive_samples.extend(np.random.exponential(1 / lam, size=len(observed_service_times)))\n",
        "\n",
        "posterior_predictive_samples = np.array(posterior_predictive_samples)\n",
        "\n",
        "# Plot the observed service times and posterior predictive samples for comparison\n",
        "plt.figure(figsize=(12, 6))\n",
        "plt.hist(observed_service_times, bins=30, alpha=0.5, label='Observed Service Times', density=True)\n",
        "plt.hist(posterior_predictive_samples, bins=30, alpha=0.5, label='Posterior Predictive Samples', density=True)\n",
        "plt.xlabel('Service Time')\n",
        "plt.ylabel('Density')\n",
        "plt.legend()\n",
        "plt.title('Posterior Predictive Check')\n",
        "plt.show()"
      ],
      "metadata": {
        "colab": {
          "base_uri": "https://localhost:8080/",
          "height": 693
        },
        "id": "gr01JG4pJ624",
        "outputId": "7b59f6cd-3c87-4b7b-b78f-664abac3b9fe"
      },
      "id": "gr01JG4pJ624",
      "execution_count": 30,
      "outputs": [
        {
          "output_type": "stream",
          "name": "stdout",
          "text": [
            "         mean     sd  hdi_3%  hdi_97%  mcse_mean  mcse_sd  ess_bulk  ess_tail  \\\n",
            "lambda  0.098  0.004   0.091    0.105        0.0      0.0    1620.0    2803.0   \n",
            "\n",
            "        r_hat  \n",
            "lambda    1.0  \n",
            "Mean of the average service time: 10.19820283077221\n",
            "Standard deviation of the average service time: 0.3749473469250905\n"
          ]
        },
        {
          "output_type": "display_data",
          "data": {
            "text/plain": [
              "<Figure size 1200x600 with 1 Axes>"
            ],
            "image/png": "[encoded data removed]"
          },
          "metadata": {}
        }
      ]
    },
    {
      "cell_type": "markdown",
      "source": [
        "### 4. According to the resulted anaysis, how certain are you about the average service prediction?"
      ],
      "metadata": {
        "id": "OvbGQhtUJqlI"
      },
      "id": "OvbGQhtUJqlI"
    },
    {
      "cell_type": "markdown",
      "source": [
        "Based on the posterior predictive check and the summary statistics from the Bayesian analysis, we can evaluate the certainty of the average service time prediction as follows:\n",
        "\n",
        "### Posterior Summary Statistics\n",
        "- **Mean of $(\\lambda)$**: 0.098\n",
        "- **Standard deviation of $(\\lambda)$**: 0.004\n",
        "- **95% Highest Density Interval (HDI) of $(\\lambda)$**: [0.091, 0.105]\n",
        "\n",
        "The mean of the posterior distribution for $(\\lambda)$ is 0.098, with a relatively small standard deviation of 0.004. This indicates that the posterior distribution of $(\\lambda)$ is concentrated around its mean, suggesting a high level of certainty about the rate parameter $(\\lambda)$.\n",
        "\n",
        "### Posterior Predictive Check\n",
        "The histogram of the posterior predictive samples matches closely with the histogram of the observed service times. This visual comparison indicates that the model's predictions are consistent with the observed data, further validating the model and its estimates.\n",
        "\n",
        "### Average Service Time\n",
        "- **Mean of the average service time**: 10.18 seconds\n",
        "- **Standard deviation of the average service time**: 0.39 seconds\n",
        "\n",
        "Given the posterior distribution of $(\\lambda)$, the mean of the average service time is approximately 10.18 seconds with a standard deviation of 0.39 seconds. The small standard deviation relative to the mean suggests that we can be quite confident in our estimate of the average service time.\n",
        "\n",
        "### Conclusion\n",
        "The small standard deviation of the posterior distribution for both $(\\lambda)$ and the average service time indicates a high level of certainty in our predictions. The posterior predictive check confirms that the model captures the observed data well. Therefore, we can be confident in the prediction of the average service time.\n"
      ],
      "metadata": {
        "id": "f4lvDOe1MBKg"
      },
      "id": "f4lvDOe1MBKg"
    },
    {
      "cell_type": "markdown",
      "id": "17b90ec0-ac05-4b19-add9-80574eec8658",
      "metadata": {
        "id": "17b90ec0-ac05-4b19-add9-80574eec8658"
      },
      "source": [
        "## Part 2:\n",
        "\n",
        "### We next turn to the next part where we wish to map the average service time at each time cell.\n",
        "\n",
        "### Important note: please ignore the data from the previuos part while doing this task.\n",
        "\n",
        "### The data is under df_tot as given below. In the dataset we have missing parts, some cells in the grid are missing. Your job is to fill the grid."
      ]
    },
    {
      "cell_type": "code",
      "execution_count": 28,
      "id": "ad339bbc-028a-43c0-a8d9-1db80f68e574",
      "metadata": {
        "tags": [],
        "id": "ad339bbc-028a-43c0-a8d9-1db80f68e574",
        "outputId": "f6256d6f-c722-4eac-9105-9757480918f5",
        "colab": {
          "base_uri": "https://localhost:8080/",
          "height": 206
        }
      },
      "outputs": [
        {
          "output_type": "execute_result",
          "data": {
            "text/plain": [
              "   Unnamed: 0  index  customer_id  num_cust          event   time_stamp  day  \\\n",
              "0           0    981          327         0        Arrival  3608.653189    1   \n",
              "1           1    982          327         1  Enter_service  3608.653189    1   \n",
              "2           2    983          327         0      Departure  3609.497913    1   \n",
              "3           3    984          328         0        Arrival  3609.790566    1   \n",
              "4           4    985          328         1  Enter_service  3609.790566    1   \n",
              "\n",
              "   hour  \n",
              "0     1  \n",
              "1     1  \n",
              "2     1  \n",
              "3     1  \n",
              "4     1  "
            ],
            "text/html": [
              "\n",
              "  <div id=\"df-9716d6f2-2df9-4a06-b357-76de0bdc6e29\" class=\"colab-df-container\">\n",
              "    <div>\n",
              "<style scoped>\n",
              "    .dataframe tbody tr th:only-of-type {\n",
              "        vertical-align: middle;\n",
              "    }\n",
              "\n",
              "    .dataframe tbody tr th {\n",
              "        vertical-align: top;\n",
              "    }\n",
              "\n",
              "    .dataframe thead th {\n",
              "        text-align: right;\n",
              "    }\n",
              "</style>\n",
              "<table border=\"1\" class=\"dataframe\">\n",
              "  <thead>\n",
              "    <tr style=\"text-align: right;\">\n",
              "      <th></th>\n",
              "      <th>Unnamed: 0</th>\n",
              "      <th>index</th>\n",
              "      <th>customer_id</th>\n",
              "      <th>num_cust</th>\n",
              "      <th>event</th>\n",
              "      <th>time_stamp</th>\n",
              "      <th>day</th>\n",
              "      <th>hour</th>\n",
              "    </tr>\n",
              "  </thead>\n",
              "  <tbody>\n",
              "    <tr>\n",
              "      <th>0</th>\n",
              "      <td>0</td>\n",
              "      <td>981</td>\n",
              "      <td>327</td>\n",
              "      <td>0</td>\n",
              "      <td>Arrival</td>\n",
              "      <td>3608.653189</td>\n",
              "      <td>1</td>\n",
              "      <td>1</td>\n",
              "    </tr>\n",
              "    <tr>\n",
              "      <th>1</th>\n",
              "      <td>1</td>\n",
              "      <td>982</td>\n",
              "      <td>327</td>\n",
              "      <td>1</td>\n",
              "      <td>Enter_service</td>\n",
              "      <td>3608.653189</td>\n",
              "      <td>1</td>\n",
              "      <td>1</td>\n",
              "    </tr>\n",
              "    <tr>\n",
              "      <th>2</th>\n",
              "      <td>2</td>\n",
              "      <td>983</td>\n",
              "      <td>327</td>\n",
              "      <td>0</td>\n",
              "      <td>Departure</td>\n",
              "      <td>3609.497913</td>\n",
              "      <td>1</td>\n",
              "      <td>1</td>\n",
              "    </tr>\n",
              "    <tr>\n",
              "      <th>3</th>\n",
              "      <td>3</td>\n",
              "      <td>984</td>\n",
              "      <td>328</td>\n",
              "      <td>0</td>\n",
              "      <td>Arrival</td>\n",
              "      <td>3609.790566</td>\n",
              "      <td>1</td>\n",
              "      <td>1</td>\n",
              "    </tr>\n",
              "    <tr>\n",
              "      <th>4</th>\n",
              "      <td>4</td>\n",
              "      <td>985</td>\n",
              "      <td>328</td>\n",
              "      <td>1</td>\n",
              "      <td>Enter_service</td>\n",
              "      <td>3609.790566</td>\n",
              "      <td>1</td>\n",
              "      <td>1</td>\n",
              "    </tr>\n",
              "  </tbody>\n",
              "</table>\n",
              "</div>\n",
              "    <div class=\"colab-df-buttons\">\n",
              "\n",
              "  <div class=\"colab-df-container\">\n",
              "    <button class=\"colab-df-convert\" onclick=\"convertToInteractive('df-9716d6f2-2df9-4a06-b357-76de0bdc6e29')\"\n",
              "            title=\"Convert this dataframe to an interactive table.\"\n",
              "            style=\"display:none;\">\n",
              "\n",
              "  <svg xmlns=\"http://www.w3.org/2000/svg\" height=\"24px\" viewBox=\"0 -960 960 960\">\n",
              "    <path d=\"M120-120v-720h720v720H120Zm60-500h600v-160H180v160Zm220 220h160v-160H400v160Zm0 220h160v-160H400v160ZM180-400h160v-160H180v160Zm440 0h160v-160H620v160ZM180-180h160v-160H180v160Zm440 0h160v-160H620v160Z\"/>\n",
              "  </svg>\n",
              "    </button>\n",
              "\n",
              "  <style>\n",
              "    .colab-df-container {\n",
              "      display:flex;\n",
              "      gap: 12px;\n",
              "    }\n",
              "\n",
              "    .colab-df-convert {\n",
              "      background-color: #E8F0FE;\n",
              "      border: none;\n",
              "      border-radius: 50%;\n",
              "      cursor: pointer;\n",
              "      display: none;\n",
              "      fill: #1967D2;\n",
              "      height: 32px;\n",
              "      padding: 0 0 0 0;\n",
              "      width: 32px;\n",
              "    }\n",
              "\n",
              "    .colab-df-convert:hover {\n",
              "      background-color: #E2EBFA;\n",
              "      box-shadow: 0px 1px 2px rgba(60, 64, 67, 0.3), 0px 1px 3px 1px rgba(60, 64, 67, 0.15);\n",
              "      fill: #174EA6;\n",
              "    }\n",
              "\n",
              "    .colab-df-buttons div {\n",
              "      margin-bottom: 4px;\n",
              "    }\n",
              "\n",
              "    [theme=dark] .colab-df-convert {\n",
              "      background-color: #3B4455;\n",
              "      fill: #D2E3FC;\n",
              "    }\n",
              "\n",
              "    [theme=dark] .colab-df-convert:hover {\n",
              "      background-color: #434B5C;\n",
              "      box-shadow: 0px 1px 3px 1px rgba(0, 0, 0, 0.15);\n",
              "      filter: drop-shadow(0px 1px 2px rgba(0, 0, 0, 0.3));\n",
              "      fill: #FFFFFF;\n",
              "    }\n",
              "  </style>\n",
              "\n",
              "    <script>\n",
              "      const buttonEl =\n",
              "        document.querySelector('#df-9716d6f2-2df9-4a06-b357-76de0bdc6e29 button.colab-df-convert');\n",
              "      buttonEl.style.display =\n",
              "        google.colab.kernel.accessAllowed ? 'block' : 'none';\n",
              "\n",
              "      async function convertToInteractive(key) {\n",
              "        const element = document.querySelector('#df-9716d6f2-2df9-4a06-b357-76de0bdc6e29');\n",
              "        const dataTable =\n",
              "          await google.colab.kernel.invokeFunction('convertToInteractive',\n",
              "                                                    [key], {});\n",
              "        if (!dataTable) return;\n",
              "\n",
              "        const docLinkHtml = 'Like what you see? Visit the ' +\n",
              "          '<a target=\"_blank\" href=https://colab.research.google.com/notebooks/data_table.ipynb>data table notebook</a>'\n",
              "          + ' to learn more about interactive tables.';\n",
              "        element.innerHTML = '';\n",
              "        dataTable['output_type'] = 'display_data';\n",
              "        await google.colab.output.renderOutput(dataTable, element);\n",
              "        const docLink = document.createElement('div');\n",
              "        docLink.innerHTML = docLinkHtml;\n",
              "        element.appendChild(docLink);\n",
              "      }\n",
              "    </script>\n",
              "  </div>\n",
              "\n",
              "\n",
              "<div id=\"df-333f7cc3-9beb-4eb4-b77c-f0d51621ab94\">\n",
              "  <button class=\"colab-df-quickchart\" onclick=\"quickchart('df-333f7cc3-9beb-4eb4-b77c-f0d51621ab94')\"\n",
              "            title=\"Suggest charts\"\n",
              "            style=\"display:none;\">\n",
              "\n",
              "<svg xmlns=\"http://www.w3.org/2000/svg\" height=\"24px\"viewBox=\"0 0 24 24\"\n",
              "     width=\"24px\">\n",
              "    <g>\n",
              "        <path d=\"M19 3H5c-1.1 0-2 .9-2 2v14c0 1.1.9 2 2 2h14c1.1 0 2-.9 2-2V5c0-1.1-.9-2-2-2zM9 17H7v-7h2v7zm4 0h-2V7h2v10zm4 0h-2v-4h2v4z\"/>\n",
              "    </g>\n",
              "</svg>\n",
              "  </button>\n",
              "\n",
              "<style>\n",
              "  .colab-df-quickchart {\n",
              "      --bg-color: #E8F0FE;\n",
              "      --fill-color: #1967D2;\n",
              "      --hover-bg-color: #E2EBFA;\n",
              "      --hover-fill-color: #174EA6;\n",
              "      --disabled-fill-color: #AAA;\n",
              "      --disabled-bg-color: #DDD;\n",
              "  }\n",
              "\n",
              "  [theme=dark] .colab-df-quickchart {\n",
              "      --bg-color: #3B4455;\n",
              "      --fill-color: #D2E3FC;\n",
              "      --hover-bg-color: #434B5C;\n",
              "      --hover-fill-color: #FFFFFF;\n",
              "      --disabled-bg-color: #3B4455;\n",
              "      --disabled-fill-color: #666;\n",
              "  }\n",
              "\n",
              "  .colab-df-quickchart {\n",
              "    background-color: var(--bg-color);\n",
              "    border: none;\n",
              "    border-radius: 50%;\n",
              "    cursor: pointer;\n",
              "    display: none;\n",
              "    fill: var(--fill-color);\n",
              "    height: 32px;\n",
              "    padding: 0;\n",
              "    width: 32px;\n",
              "  }\n",
              "\n",
              "  .colab-df-quickchart:hover {\n",
              "    background-color: var(--hover-bg-color);\n",
              "    box-shadow: 0 1px 2px rgba(60, 64, 67, 0.3), 0 1px 3px 1px rgba(60, 64, 67, 0.15);\n",
              "    fill: var(--button-hover-fill-color);\n",
              "  }\n",
              "\n",
              "  .colab-df-quickchart-complete:disabled,\n",
              "  .colab-df-quickchart-complete:disabled:hover {\n",
              "    background-color: var(--disabled-bg-color);\n",
              "    fill: var(--disabled-fill-color);\n",
              "    box-shadow: none;\n",
              "  }\n",
              "\n",
              "  .colab-df-spinner {\n",
              "    border: 2px solid var(--fill-color);\n",
              "    border-color: transparent;\n",
              "    border-bottom-color: var(--fill-color);\n",
              "    animation:\n",
              "      spin 1s steps(1) infinite;\n",
              "  }\n",
              "\n",
              "  @keyframes spin {\n",
              "    0% {\n",
              "      border-color: transparent;\n",
              "      border-bottom-color: var(--fill-color);\n",
              "      border-left-color: var(--fill-color);\n",
              "    }\n",
              "    20% {\n",
              "      border-color: transparent;\n",
              "      border-left-color: var(--fill-color);\n",
              "      border-top-color: var(--fill-color);\n",
              "    }\n",
              "    30% {\n",
              "      border-color: transparent;\n",
              "      border-left-color: var(--fill-color);\n",
              "      border-top-color: var(--fill-color);\n",
              "      border-right-color: var(--fill-color);\n",
              "    }\n",
              "    40% {\n",
              "      border-color: transparent;\n",
              "      border-right-color: var(--fill-color);\n",
              "      border-top-color: var(--fill-color);\n",
              "    }\n",
              "    60% {\n",
              "      border-color: transparent;\n",
              "      border-right-color: var(--fill-color);\n",
              "    }\n",
              "    80% {\n",
              "      border-color: transparent;\n",
              "      border-right-color: var(--fill-color);\n",
              "      border-bottom-color: var(--fill-color);\n",
              "    }\n",
              "    90% {\n",
              "      border-color: transparent;\n",
              "      border-bottom-color: var(--fill-color);\n",
              "    }\n",
              "  }\n",
              "</style>\n",
              "\n",
              "  <script>\n",
              "    async function quickchart(key) {\n",
              "      const quickchartButtonEl =\n",
              "        document.querySelector('#' + key + ' button');\n",
              "      quickchartButtonEl.disabled = true;  // To prevent multiple clicks.\n",
              "      quickchartButtonEl.classList.add('colab-df-spinner');\n",
              "      try {\n",
              "        const charts = await google.colab.kernel.invokeFunction(\n",
              "            'suggestCharts', [key], {});\n",
              "      } catch (error) {\n",
              "        console.error('Error during call to suggestCharts:', error);\n",
              "      }\n",
              "      quickchartButtonEl.classList.remove('colab-df-spinner');\n",
              "      quickchartButtonEl.classList.add('colab-df-quickchart-complete');\n",
              "    }\n",
              "    (() => {\n",
              "      let quickchartButtonEl =\n",
              "        document.querySelector('#df-333f7cc3-9beb-4eb4-b77c-f0d51621ab94 button');\n",
              "      quickchartButtonEl.style.display =\n",
              "        google.colab.kernel.accessAllowed ? 'block' : 'none';\n",
              "    })();\n",
              "  </script>\n",
              "</div>\n",
              "\n",
              "    </div>\n",
              "  </div>\n"
            ],
            "application/vnd.google.colaboratory.intrinsic+json": {
              "type": "dataframe",
              "variable_name": "df_tot",
              "summary": "{\n  \"name\": \"df_tot\",\n  \"rows\": 69724,\n  \"fields\": [\n    {\n      \"column\": \"Unnamed: 0\",\n      \"properties\": {\n        \"dtype\": \"number\",\n        \"std\": 261,\n        \"min\": 0,\n        \"max\": 1043,\n        \"num_unique_values\": 1044,\n        \"samples\": [\n          971,\n          280,\n          536\n        ],\n        \"semantic_type\": \"\",\n        \"description\": \"\"\n      }\n    },\n    {\n      \"column\": \"index\",\n      \"properties\": {\n        \"dtype\": \"number\",\n        \"std\": 45917,\n        \"min\": 981,\n        \"max\": 150623,\n        \"num_unique_values\": 69724,\n        \"samples\": [\n          17625,\n          37198,\n          113668\n        ],\n        \"semantic_type\": \"\",\n        \"description\": \"\"\n      }\n    },\n    {\n      \"column\": \"customer_id\",\n      \"properties\": {\n        \"dtype\": \"number\",\n        \"std\": 15305,\n        \"min\": 327,\n        \"max\": 50207,\n        \"num_unique_values\": 23265,\n        \"samples\": [\n          9491,\n          20102,\n          5936\n        ],\n        \"semantic_type\": \"\",\n        \"description\": \"\"\n      }\n    },\n    {\n      \"column\": \"num_cust\",\n      \"properties\": {\n        \"dtype\": \"number\",\n        \"std\": 1,\n        \"min\": 0,\n        \"max\": 23,\n        \"num_unique_values\": 24,\n        \"samples\": [\n          8,\n          16,\n          0\n        ],\n        \"semantic_type\": \"\",\n        \"description\": \"\"\n      }\n    },\n    {\n      \"column\": \"event\",\n      \"properties\": {\n        \"dtype\": \"category\",\n        \"num_unique_values\": 3,\n        \"samples\": [\n          \"Arrival\",\n          \"Enter_service\",\n          \"Departure\"\n        ],\n        \"semantic_type\": \"\",\n        \"description\": \"\"\n      }\n    },\n    {\n      \"column\": \"time_stamp\",\n      \"properties\": {\n        \"dtype\": \"number\",\n        \"std\": 183896.98829254066,\n        \"min\": 3608.653188762904,\n        \"max\": 604775.9048246456,\n        \"num_unique_values\": 46484,\n        \"samples\": [\n          88043.61201530037,\n          254066.7946295856,\n          370206.6516076989\n        ],\n        \"semantic_type\": \"\",\n        \"description\": \"\"\n      }\n    },\n    {\n      \"column\": \"day\",\n      \"properties\": {\n        \"dtype\": \"number\",\n        \"std\": 2,\n        \"min\": 1,\n        \"max\": 7,\n        \"num_unique_values\": 7,\n        \"samples\": [\n          1,\n          2,\n          6\n        ],\n        \"semantic_type\": \"\",\n        \"description\": \"\"\n      }\n    },\n    {\n      \"column\": \"hour\",\n      \"properties\": {\n        \"dtype\": \"number\",\n        \"std\": 7,\n        \"min\": 0,\n        \"max\": 23,\n        \"num_unique_values\": 24,\n        \"samples\": [\n          19,\n          17,\n          1\n        ],\n        \"semantic_type\": \"\",\n        \"description\": \"\"\n      }\n    }\n  ]\n}"
            }
          },
          "metadata": {},
          "execution_count": 28
        }
      ],
      "source": [
        "df_tot = pkl.load(open('/content/bayesian-model/df_tot.pkl', 'rb'))\n",
        "df_tot.head(5)"
      ]
    },
    {
      "cell_type": "code",
      "source": [
        "df_tot.to_csv('df_tot.csv', index = False)"
      ],
      "metadata": {
        "id": "c9WKYpYNNKeb"
      },
      "id": "c9WKYpYNNKeb",
      "execution_count": 31,
      "outputs": []
    },
    {
      "cell_type": "markdown",
      "id": "6719c646-7b37-43e7-ab54-7b9eda0b0381",
      "metadata": {
        "tags": [],
        "id": "6719c646-7b37-43e7-ab54-7b9eda0b0381"
      },
      "source": [
        "## Tasks:\n",
        "\n",
        "### 1. Extract the mean service times (taking the average time is sufficient, no need  for extra bayesian analysis) per each cell you do have data.\n",
        "### 2. Use two regression methods for completing the average service time for the rest of the grid.\n",
        "### 3. Plot on a 3D plot which contains the data, and the surface of the two regression methods.\n",
        "### 4. What is the probability that the service time of chip, between 16:00 to 18:00, on Shabbat, will be between 6 to 7 seconds?\n",
        "### 5. Please give full specification of the Gauusian distribution of the service time on Sunday between 14:00 to 15:00 and Sunday between 16:00 to 17:00.\n",
        "### 6. What is the correlation between the service times at Sunday between 14:00 to 15:00 and Sunday between 16:00 to 17:00?\n",
        "### What is the correlation between the service times at Sunday between 14:00 to 15:00 and Sunday between 20:00 to 21:00?\n",
        "### Which correlation value is larger? does this result make sense?\n"
      ]
    },
    {
      "cell_type": "markdown",
      "id": "e6eba2ba-9743-4b1e-b306-dec33a96535b",
      "metadata": {
        "id": "e6eba2ba-9743-4b1e-b306-dec33a96535b"
      },
      "source": [
        "## You code here"
      ]
    },
    {
      "cell_type": "markdown",
      "source": [
        "### 1. Extract the mean service times (taking the average time is sufficient, no need  for extra bayesian analysis) per each cell you do have data."
      ],
      "metadata": {
        "id": "BKUbp-aQNcli"
      },
      "id": "BKUbp-aQNcli"
    },
    {
      "cell_type": "code",
      "execution_count": 32,
      "id": "4dcc9d13-3dbe-4b36-b5ff-9902fdee40e7",
      "metadata": {
        "id": "4dcc9d13-3dbe-4b36-b5ff-9902fdee40e7",
        "colab": {
          "base_uri": "https://localhost:8080/",
          "height": 206
        },
        "outputId": "a0e864af-164a-4f8d-a89e-41d55709af73"
      },
      "outputs": [
        {
          "output_type": "execute_result",
          "data": {
            "text/plain": [
              "   day_start  hour_start  service_time\n",
              "0          1           1      1.293141\n",
              "1          1           3      1.729359\n",
              "2          1           4      2.063790\n",
              "3          1           7      2.982484\n",
              "4          1          10      5.594943"
            ],
            "text/html": [
              "\n",
              "  <div id=\"df-b8a43d3d-8d4b-4cd7-80b9-b5285c720bc2\" class=\"colab-df-container\">\n",
              "    <div>\n",
              "<style scoped>\n",
              "    .dataframe tbody tr th:only-of-type {\n",
              "        vertical-align: middle;\n",
              "    }\n",
              "\n",
              "    .dataframe tbody tr th {\n",
              "        vertical-align: top;\n",
              "    }\n",
              "\n",
              "    .dataframe thead th {\n",
              "        text-align: right;\n",
              "    }\n",
              "</style>\n",
              "<table border=\"1\" class=\"dataframe\">\n",
              "  <thead>\n",
              "    <tr style=\"text-align: right;\">\n",
              "      <th></th>\n",
              "      <th>day_start</th>\n",
              "      <th>hour_start</th>\n",
              "      <th>service_time</th>\n",
              "    </tr>\n",
              "  </thead>\n",
              "  <tbody>\n",
              "    <tr>\n",
              "      <th>0</th>\n",
              "      <td>1</td>\n",
              "      <td>1</td>\n",
              "      <td>1.293141</td>\n",
              "    </tr>\n",
              "    <tr>\n",
              "      <th>1</th>\n",
              "      <td>1</td>\n",
              "      <td>3</td>\n",
              "      <td>1.729359</td>\n",
              "    </tr>\n",
              "    <tr>\n",
              "      <th>2</th>\n",
              "      <td>1</td>\n",
              "      <td>4</td>\n",
              "      <td>2.063790</td>\n",
              "    </tr>\n",
              "    <tr>\n",
              "      <th>3</th>\n",
              "      <td>1</td>\n",
              "      <td>7</td>\n",
              "      <td>2.982484</td>\n",
              "    </tr>\n",
              "    <tr>\n",
              "      <th>4</th>\n",
              "      <td>1</td>\n",
              "      <td>10</td>\n",
              "      <td>5.594943</td>\n",
              "    </tr>\n",
              "  </tbody>\n",
              "</table>\n",
              "</div>\n",
              "    <div class=\"colab-df-buttons\">\n",
              "\n",
              "  <div class=\"colab-df-container\">\n",
              "    <button class=\"colab-df-convert\" onclick=\"convertToInteractive('df-b8a43d3d-8d4b-4cd7-80b9-b5285c720bc2')\"\n",
              "            title=\"Convert this dataframe to an interactive table.\"\n",
              "            style=\"display:none;\">\n",
              "\n",
              "  <svg xmlns=\"http://www.w3.org/2000/svg\" height=\"24px\" viewBox=\"0 -960 960 960\">\n",
              "    <path d=\"M120-120v-720h720v720H120Zm60-500h600v-160H180v160Zm220 220h160v-160H400v160Zm0 220h160v-160H400v160ZM180-400h160v-160H180v160Zm440 0h160v-160H620v160ZM180-180h160v-160H180v160Zm440 0h160v-160H620v160Z\"/>\n",
              "  </svg>\n",
              "    </button>\n",
              "\n",
              "  <style>\n",
              "    .colab-df-container {\n",
              "      display:flex;\n",
              "      gap: 12px;\n",
              "    }\n",
              "\n",
              "    .colab-df-convert {\n",
              "      background-color: #E8F0FE;\n",
              "      border: none;\n",
              "      border-radius: 50%;\n",
              "      cursor: pointer;\n",
              "      display: none;\n",
              "      fill: #1967D2;\n",
              "      height: 32px;\n",
              "      padding: 0 0 0 0;\n",
              "      width: 32px;\n",
              "    }\n",
              "\n",
              "    .colab-df-convert:hover {\n",
              "      background-color: #E2EBFA;\n",
              "      box-shadow: 0px 1px 2px rgba(60, 64, 67, 0.3), 0px 1px 3px 1px rgba(60, 64, 67, 0.15);\n",
              "      fill: #174EA6;\n",
              "    }\n",
              "\n",
              "    .colab-df-buttons div {\n",
              "      margin-bottom: 4px;\n",
              "    }\n",
              "\n",
              "    [theme=dark] .colab-df-convert {\n",
              "      background-color: #3B4455;\n",
              "      fill: #D2E3FC;\n",
              "    }\n",
              "\n",
              "    [theme=dark] .colab-df-convert:hover {\n",
              "      background-color: #434B5C;\n",
              "      box-shadow: 0px 1px 3px 1px rgba(0, 0, 0, 0.15);\n",
              "      filter: drop-shadow(0px 1px 2px rgba(0, 0, 0, 0.3));\n",
              "      fill: #FFFFFF;\n",
              "    }\n",
              "  </style>\n",
              "\n",
              "    <script>\n",
              "      const buttonEl =\n",
              "        document.querySelector('#df-b8a43d3d-8d4b-4cd7-80b9-b5285c720bc2 button.colab-df-convert');\n",
              "      buttonEl.style.display =\n",
              "        google.colab.kernel.accessAllowed ? 'block' : 'none';\n",
              "\n",
              "      async function convertToInteractive(key) {\n",
              "        const element = document.querySelector('#df-b8a43d3d-8d4b-4cd7-80b9-b5285c720bc2');\n",
              "        const dataTable =\n",
              "          await google.colab.kernel.invokeFunction('convertToInteractive',\n",
              "                                                    [key], {});\n",
              "        if (!dataTable) return;\n",
              "\n",
              "        const docLinkHtml = 'Like what you see? Visit the ' +\n",
              "          '<a target=\"_blank\" href=https://colab.research.google.com/notebooks/data_table.ipynb>data table notebook</a>'\n",
              "          + ' to learn more about interactive tables.';\n",
              "        element.innerHTML = '';\n",
              "        dataTable['output_type'] = 'display_data';\n",
              "        await google.colab.output.renderOutput(dataTable, element);\n",
              "        const docLink = document.createElement('div');\n",
              "        docLink.innerHTML = docLinkHtml;\n",
              "        element.appendChild(docLink);\n",
              "      }\n",
              "    </script>\n",
              "  </div>\n",
              "\n",
              "\n",
              "<div id=\"df-acad1099-f39c-48d4-aba6-2c1f33678cf1\">\n",
              "  <button class=\"colab-df-quickchart\" onclick=\"quickchart('df-acad1099-f39c-48d4-aba6-2c1f33678cf1')\"\n",
              "            title=\"Suggest charts\"\n",
              "            style=\"display:none;\">\n",
              "\n",
              "<svg xmlns=\"http://www.w3.org/2000/svg\" height=\"24px\"viewBox=\"0 0 24 24\"\n",
              "     width=\"24px\">\n",
              "    <g>\n",
              "        <path d=\"M19 3H5c-1.1 0-2 .9-2 2v14c0 1.1.9 2 2 2h14c1.1 0 2-.9 2-2V5c0-1.1-.9-2-2-2zM9 17H7v-7h2v7zm4 0h-2V7h2v10zm4 0h-2v-4h2v4z\"/>\n",
              "    </g>\n",
              "</svg>\n",
              "  </button>\n",
              "\n",
              "<style>\n",
              "  .colab-df-quickchart {\n",
              "      --bg-color: #E8F0FE;\n",
              "      --fill-color: #1967D2;\n",
              "      --hover-bg-color: #E2EBFA;\n",
              "      --hover-fill-color: #174EA6;\n",
              "      --disabled-fill-color: #AAA;\n",
              "      --disabled-bg-color: #DDD;\n",
              "  }\n",
              "\n",
              "  [theme=dark] .colab-df-quickchart {\n",
              "      --bg-color: #3B4455;\n",
              "      --fill-color: #D2E3FC;\n",
              "      --hover-bg-color: #434B5C;\n",
              "      --hover-fill-color: #FFFFFF;\n",
              "      --disabled-bg-color: #3B4455;\n",
              "      --disabled-fill-color: #666;\n",
              "  }\n",
              "\n",
              "  .colab-df-quickchart {\n",
              "    background-color: var(--bg-color);\n",
              "    border: none;\n",
              "    border-radius: 50%;\n",
              "    cursor: pointer;\n",
              "    display: none;\n",
              "    fill: var(--fill-color);\n",
              "    height: 32px;\n",
              "    padding: 0;\n",
              "    width: 32px;\n",
              "  }\n",
              "\n",
              "  .colab-df-quickchart:hover {\n",
              "    background-color: var(--hover-bg-color);\n",
              "    box-shadow: 0 1px 2px rgba(60, 64, 67, 0.3), 0 1px 3px 1px rgba(60, 64, 67, 0.15);\n",
              "    fill: var(--button-hover-fill-color);\n",
              "  }\n",
              "\n",
              "  .colab-df-quickchart-complete:disabled,\n",
              "  .colab-df-quickchart-complete:disabled:hover {\n",
              "    background-color: var(--disabled-bg-color);\n",
              "    fill: var(--disabled-fill-color);\n",
              "    box-shadow: none;\n",
              "  }\n",
              "\n",
              "  .colab-df-spinner {\n",
              "    border: 2px solid var(--fill-color);\n",
              "    border-color: transparent;\n",
              "    border-bottom-color: var(--fill-color);\n",
              "    animation:\n",
              "      spin 1s steps(1) infinite;\n",
              "  }\n",
              "\n",
              "  @keyframes spin {\n",
              "    0% {\n",
              "      border-color: transparent;\n",
              "      border-bottom-color: var(--fill-color);\n",
              "      border-left-color: var(--fill-color);\n",
              "    }\n",
              "    20% {\n",
              "      border-color: transparent;\n",
              "      border-left-color: var(--fill-color);\n",
              "      border-top-color: var(--fill-color);\n",
              "    }\n",
              "    30% {\n",
              "      border-color: transparent;\n",
              "      border-left-color: var(--fill-color);\n",
              "      border-top-color: var(--fill-color);\n",
              "      border-right-color: var(--fill-color);\n",
              "    }\n",
              "    40% {\n",
              "      border-color: transparent;\n",
              "      border-right-color: var(--fill-color);\n",
              "      border-top-color: var(--fill-color);\n",
              "    }\n",
              "    60% {\n",
              "      border-color: transparent;\n",
              "      border-right-color: var(--fill-color);\n",
              "    }\n",
              "    80% {\n",
              "      border-color: transparent;\n",
              "      border-right-color: var(--fill-color);\n",
              "      border-bottom-color: var(--fill-color);\n",
              "    }\n",
              "    90% {\n",
              "      border-color: transparent;\n",
              "      border-bottom-color: var(--fill-color);\n",
              "    }\n",
              "  }\n",
              "</style>\n",
              "\n",
              "  <script>\n",
              "    async function quickchart(key) {\n",
              "      const quickchartButtonEl =\n",
              "        document.querySelector('#' + key + ' button');\n",
              "      quickchartButtonEl.disabled = true;  // To prevent multiple clicks.\n",
              "      quickchartButtonEl.classList.add('colab-df-spinner');\n",
              "      try {\n",
              "        const charts = await google.colab.kernel.invokeFunction(\n",
              "            'suggestCharts', [key], {});\n",
              "      } catch (error) {\n",
              "        console.error('Error during call to suggestCharts:', error);\n",
              "      }\n",
              "      quickchartButtonEl.classList.remove('colab-df-spinner');\n",
              "      quickchartButtonEl.classList.add('colab-df-quickchart-complete');\n",
              "    }\n",
              "    (() => {\n",
              "      let quickchartButtonEl =\n",
              "        document.querySelector('#df-acad1099-f39c-48d4-aba6-2c1f33678cf1 button');\n",
              "      quickchartButtonEl.style.display =\n",
              "        google.colab.kernel.accessAllowed ? 'block' : 'none';\n",
              "    })();\n",
              "  </script>\n",
              "</div>\n",
              "\n",
              "    </div>\n",
              "  </div>\n"
            ],
            "application/vnd.google.colaboratory.intrinsic+json": {
              "type": "dataframe",
              "variable_name": "mean_service_times",
              "summary": "{\n  \"name\": \"mean_service_times\",\n  \"rows\": 78,\n  \"fields\": [\n    {\n      \"column\": \"day_start\",\n      \"properties\": {\n        \"dtype\": \"number\",\n        \"std\": 2,\n        \"min\": 1,\n        \"max\": 7,\n        \"num_unique_values\": 7,\n        \"samples\": [\n          1,\n          2,\n          6\n        ],\n        \"semantic_type\": \"\",\n        \"description\": \"\"\n      }\n    },\n    {\n      \"column\": \"hour_start\",\n      \"properties\": {\n        \"dtype\": \"number\",\n        \"std\": 7,\n        \"min\": 0,\n        \"max\": 23,\n        \"num_unique_values\": 24,\n        \"samples\": [\n          19,\n          17,\n          1\n        ],\n        \"semantic_type\": \"\",\n        \"description\": \"\"\n      }\n    },\n    {\n      \"column\": \"service_time\",\n      \"properties\": {\n        \"dtype\": \"number\",\n        \"std\": 2.4574231882877817,\n        \"min\": 0.9311666131575799,\n        \"max\": 9.33376558482873,\n        \"num_unique_values\": 78,\n        \"samples\": [\n          2.3111956074514115,\n          1.2931414616128933,\n          1.928583579482913\n        ],\n        \"semantic_type\": \"\",\n        \"description\": \"\"\n      }\n    }\n  ]\n}"
            }
          },
          "metadata": {},
          "execution_count": 32
        }
      ],
      "source": [
        "# Rename columns to standard names for easier access\n",
        "df_tot.rename(columns={'time_stamp': 'timestamp', 'day': 'day', 'hour': 'hour'}, inplace=True)\n",
        "\n",
        "# Filter out the relevant events\n",
        "service_start = df_tot[df_tot['event'] == 'Enter_service']\n",
        "service_end = df_tot[df_tot['event'] == 'Departure']\n",
        "\n",
        "# Merge service start and end events on customer_id to ensure matching\n",
        "merged_events = pd.merge(service_start, service_end, on='customer_id', suffixes=('_start', '_end'))\n",
        "\n",
        "# Calculate service times\n",
        "merged_events['service_time'] = merged_events['timestamp_end'] - merged_events['timestamp_start']\n",
        "\n",
        "# Create a DataFrame for the service times\n",
        "service_times_df = merged_events[['day_start', 'hour_start', 'service_time']]\n",
        "\n",
        "# Group by day and hour and calculate mean service time\n",
        "mean_service_times = service_times_df.groupby(['day_start', 'hour_start']).mean().sort_values(by=['day_start', 'hour_start']).reset_index()\n",
        "\n",
        "# Display the first few rows of the mean service times dataframe\n",
        "mean_service_times.head()"
      ]
    },
    {
      "cell_type": "markdown",
      "source": [
        "### 2. Use two regression methods for completing the average service time for the rest of the grid."
      ],
      "metadata": {
        "id": "h2OAUtARN6tP"
      },
      "id": "h2OAUtARN6tP"
    },
    {
      "cell_type": "markdown",
      "source": [
        "### Method 1: Linear Regression\n",
        "We'll use linear regression to estimate the missing service times. Linear regression is a simple and commonly used method to model the relationship between a dependent variable and one or more independent variables. It assumes a linear relationship between the variables.\n",
        "\n",
        "### Method 2: Gaussian Process Regression\n",
        "We'll use Gaussian Process Regression (GPR) with a radial basis function (RBF) kernel to estimate the missing service times. GPR is a non-parametric, Bayesian approach to regression that can capture more complex relationships between variables compared to linear regression. The RBF kernel is used in GPR to handle non-linear relationships and provide a measure of similarity between data points."
      ],
      "metadata": {
        "id": "J3Vg5aDlORNZ"
      },
      "id": "J3Vg5aDlORNZ"
    },
    {
      "cell_type": "code",
      "source": [
        "from sklearn.gaussian_process import GaussianProcessRegressor\n",
        "from sklearn.gaussian_process.kernels import RBF, Matern, RationalQuadratic, ExpSineSquared, ConstantKernel as C\n",
        "from sklearn.model_selection import GridSearchCV, train_test_split\n",
        "from sklearn.metrics import mean_squared_error\n",
        "\n",
        "# הכנת הנתונים לרגרסיה\n",
        "X = mean_service_times[['day_start', 'hour_start']]\n",
        "y = mean_service_times['service_time']\n",
        "\n",
        "# פיצול הנתונים לנתוני אימון ובדיקה\n",
        "X_train, X_test, y_train, y_test = train_test_split(X[['day_start', 'hour_start']], y, test_size=0.2, random_state=42)\n",
        "\n",
        "days = np.arange(1, 8)\n",
        "hours = np.arange(24)\n",
        "hour_grid, day_grid = np.meshgrid(hours, days)\n",
        "grid_points = np.vstack([day_grid.ravel(), hour_grid.ravel()]).T\n",
        "\n",
        "\n",
        "# Method 1: Linear Regression\n",
        "linear_reg = LinearRegression().fit(X_train, y_train)\n",
        "linear_predictions = linear_reg.predict(grid_points).reshape(day_grid.shape)\n",
        "linear_test_predictions = linear_reg.predict(X_test)\n",
        "linear_mse = mean_squared_error(y_test, linear_test_predictions)\n",
        "print(\"Linear Regression MSE:\", linear_mse)\n",
        "\n",
        "# הגדרת הפרמטרים לאופטימיזציה עם קרנלים נוספים\n",
        "param_grid = {\n",
        "    'alpha': [1e-10, 1e-5, 1e-2, 0.1],\n",
        "    'kernel': [C(1.0, (1e-4, 1e3)) * RBF(1, (1e-4, 1e3)),\n",
        "               C(1.0, (1e-4, 1e3)) * Matern(length_scale=1.0, nu=1.5),\n",
        "               C(1.0, (1e-4, 1e3)) * RationalQuadratic(),\n",
        "               C(1.0, (1e-4, 1e3)) * ExpSineSquared()]\n",
        "}\n",
        "\n",
        "# ביצוע Grid Search עם Cross-Validation\n",
        "gpr = GaussianProcessRegressor(n_restarts_optimizer=10)\n",
        "grid_search = GridSearchCV(estimator=gpr, param_grid=param_grid, cv=3, n_jobs=-1, verbose=2)\n",
        "grid_search.fit(X_train, y_train)\n",
        "\n",
        "# הדפסת הפרמטרים הטובים ביותר\n",
        "print(\"Best parameters for GPR:\", grid_search.best_params_)\n",
        "\n",
        "# שימוש במודל עם הפרמטרים הטובים ביותר לחיזוי\n",
        "best_gpr = grid_search.best_estimator_\n",
        "gpr_predictions_optimal, gpr_std_optimal = best_gpr.predict(grid_points, return_std=True)\n",
        "gpr_predictions_optimal = gpr_predictions_optimal.reshape(day_grid.shape)\n",
        "\n",
        "# חיזוי על נתוני הבדיקה\n",
        "y_pred = best_gpr.predict(X_test)\n",
        "mse_test = mean_squared_error(y_test, y_pred)\n",
        "print(\"Test MSE with optimal parameters:\", mse_test)"
      ],
      "metadata": {
        "colab": {
          "base_uri": "https://localhost:8080/"
        },
        "id": "9kJUrrVR55ZM",
        "outputId": "6a2d7851-6fe5-42b5-e603-34b270b1b0fc"
      },
      "id": "9kJUrrVR55ZM",
      "execution_count": 33,
      "outputs": [
        {
          "output_type": "stream",
          "name": "stdout",
          "text": [
            "Linear Regression MSE: 6.1722571158571995\n",
            "Fitting 3 folds for each of 16 candidates, totalling 48 fits\n"
          ]
        },
        {
          "output_type": "stream",
          "name": "stderr",
          "text": [
            "/usr/local/lib/python3.10/dist-packages/sklearn/base.py:465: UserWarning: X does not have valid feature names, but LinearRegression was fitted with feature names\n",
            "  warnings.warn(\n"
          ]
        },
        {
          "output_type": "stream",
          "name": "stdout",
          "text": [
            "Best parameters for GPR: {'alpha': 0.1, 'kernel': 1**2 * RationalQuadratic(alpha=1, length_scale=1)}\n",
            "Test MSE with optimal parameters: 0.09904158660603704\n"
          ]
        },
        {
          "output_type": "stream",
          "name": "stderr",
          "text": [
            "/usr/local/lib/python3.10/dist-packages/sklearn/base.py:465: UserWarning: X does not have valid feature names, but GaussianProcessRegressor was fitted with feature names\n",
            "  warnings.warn(\n"
          ]
        }
      ]
    },
    {
      "cell_type": "code",
      "source": [
        "# הוספת הפיצ'רים של היום בשבוע והשעה ביום ל-grid_points\n",
        "grid_points_df = pd.DataFrame(grid_points, columns=['day_start', 'hour_start'])\n",
        "grid_points_df=grid_points_df.sort_values(by=['day_start', 'hour_start'])\n",
        "\n",
        "# Method 1: Linear Regression\n",
        "linear_reg = LinearRegression().fit(X[['day_start', 'hour_start']], y)\n",
        "linear_predictions = linear_reg.predict(grid_points_df[['day_start', 'hour_start']]).reshape(day_grid.shape)\n",
        "\n",
        "# הפרמטרים האופטימליים שמצאנו\n",
        "alpha_optimal = 0.1\n",
        "kernel_optimal = C(1.0, (1e-4, 1e2)) * RationalQuadratic(alpha=1, length_scale=1)\n",
        "\n",
        "# הגדרת המודל עם הפרמטרים האופטימליים\n",
        "gpr_optimal = GaussianProcessRegressor(kernel=kernel_optimal, n_restarts_optimizer=10, alpha=alpha_optimal)\n",
        "\n",
        "# אימון המודל עם כל הנתונים\n",
        "gpr_optimal.fit(X[['day_start', 'hour_start']], y)\n",
        "\n",
        "# תחזיות עם המודל האופטימלי\n",
        "gpr_predictions_optimal, gpr_std_optimal = gpr_optimal.predict(grid_points_df[['day_start', 'hour_start']], return_std=True)\n",
        "gpr_predictions_optimal = gpr_predictions_optimal.reshape(day_grid.shape)"
      ],
      "metadata": {
        "id": "z7mqsvhA73HH"
      },
      "id": "z7mqsvhA73HH",
      "execution_count": 34,
      "outputs": []
    },
    {
      "cell_type": "markdown",
      "source": [
        "### 3. Plot on a 3D plot which contains the data, and the surface of the two regression methods."
      ],
      "metadata": {
        "id": "sSa86_PROd69"
      },
      "id": "sSa86_PROd69"
    },
    {
      "cell_type": "code",
      "source": [
        "# Plotting the results with Plotly for interactive 3D plots\n",
        "# Linear Regression surface\n",
        "linear_surface = go.Surface(z=linear_predictions, x=day_grid, y=hour_grid, colorscale='Viridis', opacity=0.6, name='Linear Regression')\n",
        "\n",
        "# Gaussian Process Regression surface\n",
        "gpr_surface = go.Surface(z=gpr_predictions_optimal, x=day_grid, y=hour_grid, colorscale='Viridis', opacity=0.6, name='Gaussian Process Regression')\n",
        "\n",
        "# Create scatter plot for the data points\n",
        "scatter = go.Scatter3d(x=X['day_start'], y=X['hour_start'], z=y, mode='markers', marker=dict(size=5, color='red'), name='Data Points')\n",
        "\n",
        "# Create the subplot figure\n",
        "fig = make_subplots(rows=1, cols=2, specs=[[{'type': 'surface'}, {'type': 'surface'}]],\n",
        "                    subplot_titles=(\"Linear Regression\", \"Gaussian Process Regression\"))\n",
        "\n",
        "# Add the linear regression surface\n",
        "fig.add_trace(linear_surface, row=1, col=1)\n",
        "fig.add_trace(scatter, row=1, col=1)\n",
        "\n",
        "# Add the Gaussian Process Regression surface\n",
        "fig.add_trace(gpr_surface, row=1, col=2)\n",
        "fig.add_trace(scatter, row=1, col=2)\n",
        "\n",
        "# Update the layout\n",
        "fig.update_layout(title_text='Mean Service Time Prediction',\n",
        "                  scene=dict(\n",
        "                      xaxis_title='Day of Week',\n",
        "                      yaxis_title='Hour of Day',\n",
        "                      zaxis_title='Mean Service Time'\n",
        "                  ),\n",
        "                  scene2=dict(\n",
        "                      xaxis_title='Day of Week',\n",
        "                      yaxis_title='Hour of Day',\n",
        "                      zaxis_title='Mean Service Time'\n",
        "                  ))\n",
        "\n",
        "# Show the figure\n",
        "fig.show()"
      ],
      "metadata": {
        "colab": {
          "base_uri": "https://localhost:8080/",
          "height": 542
        },
        "id": "NgZ8kVbOxSYq",
        "outputId": "7fdc6bc1-6197-4e1b-e35e-1468ce6473dc"
      },
      "id": "NgZ8kVbOxSYq",
      "execution_count": 36,
      "outputs": [
        {
          "output_type": "display_data",
          "data": {
            "text/html": [
              "<html>\n",
              "<head><meta charset=\"utf-8\" /></head>\n",
              "<body>\n",
              "    <div>            <script src=\"https://cdnjs.cloudflare.com/ajax/libs/mathjax/2.7.5/MathJax.js?config=TeX-AMS-MML_SVG\"></script><script type=\"text/javascript\">if (window.MathJax && window.MathJax.Hub && window.MathJax.Hub.Config) {window.MathJax.Hub.Config({SVG: {font: \"STIX-Web\"}});}</script>                <script type=\"text/javascript\">window.PlotlyConfig = {MathJaxConfig: 'local'};</script>\n",
              "        <script charset=\"utf-8\" src=\"https://cdn.plot.ly/plotly-2.24.1.min.js\"></script>                <div id=\"6cace444-d294-4026-87f3-00f307f714cb\" class=\"plotly-graph-div\" style=\"height:525px; width:100%;\"></div>            <script type=\"text/javascript\">                                    window.PLOTLYENV=window.PLOTLYENV || {};                                    if (document.getElementById(\"6cace444-d294-4026-87f3-00f307f714cb\")) {                    Plotly.newPlot(                        \"6cace444-d294-4026-87f3-00f307f714cb\",                        [{\"colorscale\":[[0.0,\"#440154\"],[0.1111111111111111,\"#482878\"],[0.2222222222222222,\"#3e4989\"],[0.3333333333333333,\"#31688e\"],[0.4444444444444444,\"#26828e\"],[0.5555555555555556,\"#1f9e89\"],[0.6666666666666666,\"#35b779\"],[0.7777777777777778,\"#6ece58\"],[0.8888888888888888,\"#b5de2b\"],[1.0,\"#fde725\"]],\"name\":\"Linear Regression\",\"opacity\":0.6,\"x\":[[1,1,1,1,1,1,1,1,1,1,1,1,1,1,1,1,1,1,1,1,1,1,1,1],[2,2,2,2,2,2,2,2,2,2,2,2,2,2,2,2,2,2,2,2,2,2,2,2],[3,3,3,3,3,3,3,3,3,3,3,3,3,3,3,3,3,3,3,3,3,3,3,3],[4,4,4,4,4,4,4,4,4,4,4,4,4,4,4,4,4,4,4,4,4,4,4,4],[5,5,5,5,5,5,5,5,5,5,5,5,5,5,5,5,5,5,5,5,5,5,5,5],[6,6,6,6,6,6,6,6,6,6,6,6,6,6,6,6,6,6,6,6,6,6,6,6],[7,7,7,7,7,7,7,7,7,7,7,7,7,7,7,7,7,7,7,7,7,7,7,7]],\"y\":[[0,1,2,3,4,5,6,7,8,9,10,11,12,13,14,15,16,17,18,19,20,21,22,23],[0,1,2,3,4,5,6,7,8,9,10,11,12,13,14,15,16,17,18,19,20,21,22,23],[0,1,2,3,4,5,6,7,8,9,10,11,12,13,14,15,16,17,18,19,20,21,22,23],[0,1,2,3,4,5,6,7,8,9,10,11,12,13,14,15,16,17,18,19,20,21,22,23],[0,1,2,3,4,5,6,7,8,9,10,11,12,13,14,15,16,17,18,19,20,21,22,23],[0,1,2,3,4,5,6,7,8,9,10,11,12,13,14,15,16,17,18,19,20,21,22,23],[0,1,2,3,4,5,6,7,8,9,10,11,12,13,14,15,16,17,18,19,20,21,22,23]],\"z\":[[3.436989657865054,3.490504839191821,3.5440200205185883,3.5975352018453557,3.6510503831721226,3.70456556449889,3.7580807458256573,3.8115959271524242,3.8651111084791916,3.9186262898059585,3.972141471132726,4.025656652459493,4.07917183378626,4.132687015113028,4.186202196439795,4.239717377766562,4.29323255909333,4.3467477404200965,4.400262921746863,4.45377810307363,4.507293284400398,4.560808465727165,4.614323647053932,4.667838828380699],[3.3407207142767916,3.394235895603559,3.4477510769303263,3.5012662582570933,3.5547814395838606,3.608296620910628,3.661811802237395,3.7153269835641622,3.7688421648909296,3.8223573462176965,3.875872527544464,3.929387708871231,3.982902890197998,4.036418071524765,4.089933252851533,4.1434484341783,4.196963615505067,4.2504787968318345,4.303993978158601,4.357509159485368,4.411024340812136,4.464539522138903,4.51805470346567,4.571569884792437],[3.2444517706885296,3.297966952015297,3.351482133342064,3.4049973146688313,3.4585124959955986,3.5120276773223655,3.565542858649133,3.6190580399759003,3.672573221302667,3.7260884026294345,3.779603583956202,3.833118765282969,3.886633946609736,3.940149127936503,3.9936643092632704,4.047179490590038,4.100694671916805,4.154209853243572,4.207725034570339,4.261240215897106,4.314755397223873,4.368270578550641,4.421785759877408,4.475300941204175],[3.1481828271002676,3.2016980084270346,3.255213189753802,3.3087283710805693,3.362243552407336,3.4157587337341035,3.469273915060871,3.522789096387638,3.576304277714405,3.6298194590411725,3.6833346403679394,3.736849821694707,3.790365003021474,3.843880184348241,3.8973953656750084,3.9509105470017754,4.004425728328543,4.05794090965531,4.111456090982077,4.164971272308844,4.218486453635611,4.272001634962379,4.325516816289146,4.379031997615913],[3.0519138835120057,3.1054290648387726,3.15894424616554,3.212459427492307,3.265974608819074,3.3194897901458416,3.3730049714726085,3.426520152799376,3.480035334126143,3.53355051545291,3.5870656967796775,3.6405808781064444,3.6940960594332117,3.747611240759979,3.801126422086746,3.8546416034135134,3.9081567847402807,3.9616719660670476,4.015187147393815,4.068702328720582,4.122217510047349,4.175732691374117,4.229247872700884,4.282763054027651],[2.955644939923743,3.0091601212505106,3.0626753025772775,3.116190483904045,3.169705665230812,3.223220846557579,3.2767360278843465,3.330251209211114,3.3837663905378808,3.437281571864648,3.4907967531914155,3.5443119345181824,3.5978271158449497,3.6513422971717167,3.704857478498484,3.7583726598252514,3.8118878411520183,3.8654030224787856,3.918918203805553,3.97243338513232,4.025948566459087,4.079463747785854,4.132978929112621,4.186494110439389],[2.8593759963354812,2.9128911776622486,2.9664063589890155,3.019921540315783,3.0734367216425498,3.126951902969317,3.1804670842960845,3.2339822656228514,3.2874974469496188,3.341012628276386,3.394527809603153,3.4480429909299204,3.5015581722566878,3.5550733535834547,3.608588534910222,3.662103716236989,3.7156188975637563,3.7691340788905237,3.8226492602172906,3.876164441544058,3.9296796228708253,3.983194804197592,4.036709985524359,4.090225166851127]],\"type\":\"surface\",\"scene\":\"scene\"},{\"marker\":{\"color\":\"red\",\"size\":5},\"mode\":\"markers\",\"name\":\"Data Points\",\"x\":[1,1,1,1,1,1,1,1,1,1,1,1,1,2,2,2,2,2,2,2,2,2,2,2,2,2,3,3,3,3,3,3,3,3,3,4,4,4,4,4,4,5,5,5,5,5,5,5,5,5,5,5,6,6,6,6,6,6,6,6,6,6,6,6,6,6,7,7,7,7,7,7,7,7,7,7,7,7],\"y\":[1,3,4,7,10,11,12,18,19,20,21,22,23,0,1,3,7,8,10,11,12,15,17,18,21,23,0,6,12,13,18,20,21,22,23,4,10,11,12,13,22,3,5,6,11,14,15,17,18,20,21,22,0,2,3,6,7,8,9,10,11,13,14,16,21,23,0,2,4,8,9,12,13,18,19,21,22,23],\"z\":[1.2931414616128933,1.7293588310043686,2.06378994530065,2.9824836258965073,5.5949430818868375,7.481522019165344,8.313547277306597,5.314107783986937,3.1811709143763007,2.6866890696524224,2.8610769071963977,2.2040050095698915,2.125572104800463,1.1815532636610442,1.3072830206543293,1.6044386410684988,2.784073846179616,3.4769213290538254,5.23471424566046,6.798891154866837,8.136913392616641,8.45535068236714,5.820205203321632,4.767467367072306,2.5361779077123114,2.155502504968767,1.2631159042993132,2.0786629743364395,7.824213499132631,9.33376558482873,4.126693089490942,2.8469821643759947,2.3768233149467846,2.3111956074514115,1.928583579482913,1.806474569156254,5.365500933215035,6.616385594343081,7.618618911789077,7.379681550658398,2.073204532209505,1.3734558201535476,1.925818938728026,2.122537927762224,6.292856057967803,8.689039032007432,7.719209367490088,5.530410122088102,3.7302332866999963,2.7404249159420733,2.128549832735189,2.0066990073720956,1.1142600560244893,1.194473741762996,1.3152273653978952,1.909138797106692,2.1130722065337024,2.672226481393431,3.289070448690267,3.9332062043997693,5.666725784521351,7.9389796392565675,8.342282976088443,6.556049895477137,2.014528988125074,1.7687871794418983,0.9311666131575799,1.1750048556991866,1.5061027602561863,2.640497543885382,3.2454694165175573,6.836361116393783,7.806253564403372,4.045558739234979,3.0460126903969984,1.9888185217842151,1.673081460937455,1.349323700688279],\"type\":\"scatter3d\",\"scene\":\"scene\"},{\"colorscale\":[[0.0,\"#440154\"],[0.1111111111111111,\"#482878\"],[0.2222222222222222,\"#3e4989\"],[0.3333333333333333,\"#31688e\"],[0.4444444444444444,\"#26828e\"],[0.5555555555555556,\"#1f9e89\"],[0.6666666666666666,\"#35b779\"],[0.7777777777777778,\"#6ece58\"],[0.8888888888888888,\"#b5de2b\"],[1.0,\"#fde725\"]],\"name\":\"Gaussian Process Regression\",\"opacity\":0.6,\"x\":[[1,1,1,1,1,1,1,1,1,1,1,1,1,1,1,1,1,1,1,1,1,1,1,1],[2,2,2,2,2,2,2,2,2,2,2,2,2,2,2,2,2,2,2,2,2,2,2,2],[3,3,3,3,3,3,3,3,3,3,3,3,3,3,3,3,3,3,3,3,3,3,3,3],[4,4,4,4,4,4,4,4,4,4,4,4,4,4,4,4,4,4,4,4,4,4,4,4],[5,5,5,5,5,5,5,5,5,5,5,5,5,5,5,5,5,5,5,5,5,5,5,5],[6,6,6,6,6,6,6,6,6,6,6,6,6,6,6,6,6,6,6,6,6,6,6,6],[7,7,7,7,7,7,7,7,7,7,7,7,7,7,7,7,7,7,7,7,7,7,7,7]],\"y\":[[0,1,2,3,4,5,6,7,8,9,10,11,12,13,14,15,16,17,18,19,20,21,22,23],[0,1,2,3,4,5,6,7,8,9,10,11,12,13,14,15,16,17,18,19,20,21,22,23],[0,1,2,3,4,5,6,7,8,9,10,11,12,13,14,15,16,17,18,19,20,21,22,23],[0,1,2,3,4,5,6,7,8,9,10,11,12,13,14,15,16,17,18,19,20,21,22,23],[0,1,2,3,4,5,6,7,8,9,10,11,12,13,14,15,16,17,18,19,20,21,22,23],[0,1,2,3,4,5,6,7,8,9,10,11,12,13,14,15,16,17,18,19,20,21,22,23],[0,1,2,3,4,5,6,7,8,9,10,11,12,13,14,15,16,17,18,19,20,21,22,23]],\"z\":[[1.1932660167474527,1.3333883550098309,1.5176819318506285,1.7309401647607414,1.9566363737322408,2.1989115499196217,2.501713181928975,2.9484775597131443,3.6327209877736584,4.605429586582973,5.822127923322785,7.1207948940238674,8.251926072461453,8.955391508709118,9.052017902090252,8.509478736359473,7.4552056423018005,6.132450526270384,4.817390495523829,3.729517428800367,2.971241000086051,2.5210272265122953,2.2775094097631605,2.124382361702221],[1.2005131779296632,1.3157861189465807,1.477311887242542,1.6707011627093515,1.8761989610341718,2.092738161556487,2.361650903170898,2.770350950149114,3.4230880717343357,4.383706535437716,5.615434848591891,6.952898163731428,8.131349388600672,8.86922326655565,8.970129976751661,8.398843619736926,7.297636184924719,5.935497937741954,4.611171824579319,3.5511072259918492,2.8465391450018522,2.454920580758598,2.256259426330814,2.1258712192833613],[1.1963490567971053,1.2894295684254171,1.431690435435282,1.6099235883059881,1.8008729498382112,1.9966465307063066,2.232969012558979,2.5978109252935426,3.203876301096071,4.128198503105988,5.345322763350421,6.6928217937698795,7.897825897090711,8.662821173994624,8.776153434723977,8.197529959038652,7.078446841447172,5.706047816189866,4.3941487873820115,3.371198427837255,2.716812062096249,2.371638880510064,2.2036804668329317,2.0855852962313204],[1.170611648729524,1.2468898821523677,1.3756759900108695,1.544621270108745,1.7268668650588284,1.9071428995884017,2.1139962397720207,2.433649272878524,2.985459193921705,3.8598148011138096,5.04538843290285,6.387542964748825,7.610598999701533,8.405106831990137,8.545355131156398,7.983337524411547,6.873175476946631,5.511277753899385,4.218844209920146,3.2235742232817373,2.5971910547407973,2.271804419746738,2.1120110955895726,1.9930332168134175],[1.119648910646149,1.185778470518036,1.3070671676300971,1.4714040859770001,1.649039675677472,1.8186202989137075,2.0019352887609188,2.2821154037090046,2.7826580795115974,3.6053602903450876,4.75322971243179,6.082195103527671,7.318299670265312,8.144873943840388,8.324934115715472,7.801316829914898,6.724027261133865,5.388657364925399,4.115297140411732,3.1289402423651627,2.4992865426399717,2.160236887080522,1.9823851446495322,1.8482562135910854],[1.0488472695663071,1.1113580220626282,1.2298619170541694,1.3921000954256078,1.5672835360831276,1.731145804517499,1.9008653356153,2.1554500738321902,2.618119368414195,3.39642129129299,4.504066415187457,5.808412722352869,7.042902816864087,7.891953820826294,8.114170552587211,7.644385529358122,6.622125039122303,5.3309192648021355,4.079767271367588,3.0879280019304307,2.428252195945074,2.046115452107177,1.8268568540855874,1.6646401183069912],[0.9702698672508883,1.0345361656077983,1.1532669523843992,1.314252334804458,1.4883019281519922,1.6522885175060007,1.8215388243689707,2.0695779620588994,2.5130621166867,3.256439145528666,4.317379870933035,5.574469862284638,6.776239570837824,7.62071431066984,7.873244966004952,7.464525983025595,6.518154245011166,5.294115700796242,4.079336402670705,3.0823947274154033,2.3816306891119634,1.9405256212669553,1.6657250788811826,1.4667239827349192]],\"type\":\"surface\",\"scene\":\"scene2\"},{\"marker\":{\"color\":\"red\",\"size\":5},\"mode\":\"markers\",\"name\":\"Data Points\",\"x\":[1,1,1,1,1,1,1,1,1,1,1,1,1,2,2,2,2,2,2,2,2,2,2,2,2,2,3,3,3,3,3,3,3,3,3,4,4,4,4,4,4,5,5,5,5,5,5,5,5,5,5,5,6,6,6,6,6,6,6,6,6,6,6,6,6,6,7,7,7,7,7,7,7,7,7,7,7,7],\"y\":[1,3,4,7,10,11,12,18,19,20,21,22,23,0,1,3,7,8,10,11,12,15,17,18,21,23,0,6,12,13,18,20,21,22,23,4,10,11,12,13,22,3,5,6,11,14,15,17,18,20,21,22,0,2,3,6,7,8,9,10,11,13,14,16,21,23,0,2,4,8,9,12,13,18,19,21,22,23],\"z\":[1.2931414616128933,1.7293588310043686,2.06378994530065,2.9824836258965073,5.5949430818868375,7.481522019165344,8.313547277306597,5.314107783986937,3.1811709143763007,2.6866890696524224,2.8610769071963977,2.2040050095698915,2.125572104800463,1.1815532636610442,1.3072830206543293,1.6044386410684988,2.784073846179616,3.4769213290538254,5.23471424566046,6.798891154866837,8.136913392616641,8.45535068236714,5.820205203321632,4.767467367072306,2.5361779077123114,2.155502504968767,1.2631159042993132,2.0786629743364395,7.824213499132631,9.33376558482873,4.126693089490942,2.8469821643759947,2.3768233149467846,2.3111956074514115,1.928583579482913,1.806474569156254,5.365500933215035,6.616385594343081,7.618618911789077,7.379681550658398,2.073204532209505,1.3734558201535476,1.925818938728026,2.122537927762224,6.292856057967803,8.689039032007432,7.719209367490088,5.530410122088102,3.7302332866999963,2.7404249159420733,2.128549832735189,2.0066990073720956,1.1142600560244893,1.194473741762996,1.3152273653978952,1.909138797106692,2.1130722065337024,2.672226481393431,3.289070448690267,3.9332062043997693,5.666725784521351,7.9389796392565675,8.342282976088443,6.556049895477137,2.014528988125074,1.7687871794418983,0.9311666131575799,1.1750048556991866,1.5061027602561863,2.640497543885382,3.2454694165175573,6.836361116393783,7.806253564403372,4.045558739234979,3.0460126903969984,1.9888185217842151,1.673081460937455,1.349323700688279],\"type\":\"scatter3d\",\"scene\":\"scene2\"}],                        {\"template\":{\"data\":{\"histogram2dcontour\":[{\"type\":\"histogram2dcontour\",\"colorbar\":{\"outlinewidth\":0,\"ticks\":\"\"},\"colorscale\":[[0.0,\"#0d0887\"],[0.1111111111111111,\"#46039f\"],[0.2222222222222222,\"#7201a8\"],[0.3333333333333333,\"#9c179e\"],[0.4444444444444444,\"#bd3786\"],[0.5555555555555556,\"#d8576b\"],[0.6666666666666666,\"#ed7953\"],[0.7777777777777778,\"#fb9f3a\"],[0.8888888888888888,\"#fdca26\"],[1.0,\"#f0f921\"]]}],\"choropleth\":[{\"type\":\"choropleth\",\"colorbar\":{\"outlinewidth\":0,\"ticks\":\"\"}}],\"histogram2d\":[{\"type\":\"histogram2d\",\"colorbar\":{\"outlinewidth\":0,\"ticks\":\"\"},\"colorscale\":[[0.0,\"#0d0887\"],[0.1111111111111111,\"#46039f\"],[0.2222222222222222,\"#7201a8\"],[0.3333333333333333,\"#9c179e\"],[0.4444444444444444,\"#bd3786\"],[0.5555555555555556,\"#d8576b\"],[0.6666666666666666,\"#ed7953\"],[0.7777777777777778,\"#fb9f3a\"],[0.8888888888888888,\"#fdca26\"],[1.0,\"#f0f921\"]]}],\"heatmap\":[{\"type\":\"heatmap\",\"colorbar\":{\"outlinewidth\":0,\"ticks\":\"\"},\"colorscale\":[[0.0,\"#0d0887\"],[0.1111111111111111,\"#46039f\"],[0.2222222222222222,\"#7201a8\"],[0.3333333333333333,\"#9c179e\"],[0.4444444444444444,\"#bd3786\"],[0.5555555555555556,\"#d8576b\"],[0.6666666666666666,\"#ed7953\"],[0.7777777777777778,\"#fb9f3a\"],[0.8888888888888888,\"#fdca26\"],[1.0,\"#f0f921\"]]}],\"heatmapgl\":[{\"type\":\"heatmapgl\",\"colorbar\":{\"outlinewidth\":0,\"ticks\":\"\"},\"colorscale\":[[0.0,\"#0d0887\"],[0.1111111111111111,\"#46039f\"],[0.2222222222222222,\"#7201a8\"],[0.3333333333333333,\"#9c179e\"],[0.4444444444444444,\"#bd3786\"],[0.5555555555555556,\"#d8576b\"],[0.6666666666666666,\"#ed7953\"],[0.7777777777777778,\"#fb9f3a\"],[0.8888888888888888,\"#fdca26\"],[1.0,\"#f0f921\"]]}],\"contourcarpet\":[{\"type\":\"contourcarpet\",\"colorbar\":{\"outlinewidth\":0,\"ticks\":\"\"}}],\"contour\":[{\"type\":\"contour\",\"colorbar\":{\"outlinewidth\":0,\"ticks\":\"\"},\"colorscale\":[[0.0,\"#0d0887\"],[0.1111111111111111,\"#46039f\"],[0.2222222222222222,\"#7201a8\"],[0.3333333333333333,\"#9c179e\"],[0.4444444444444444,\"#bd3786\"],[0.5555555555555556,\"#d8576b\"],[0.6666666666666666,\"#ed7953\"],[0.7777777777777778,\"#fb9f3a\"],[0.8888888888888888,\"#fdca26\"],[1.0,\"#f0f921\"]]}],\"surface\":[{\"type\":\"surface\",\"colorbar\":{\"outlinewidth\":0,\"ticks\":\"\"},\"colorscale\":[[0.0,\"#0d0887\"],[0.1111111111111111,\"#46039f\"],[0.2222222222222222,\"#7201a8\"],[0.3333333333333333,\"#9c179e\"],[0.4444444444444444,\"#bd3786\"],[0.5555555555555556,\"#d8576b\"],[0.6666666666666666,\"#ed7953\"],[0.7777777777777778,\"#fb9f3a\"],[0.8888888888888888,\"#fdca26\"],[1.0,\"#f0f921\"]]}],\"mesh3d\":[{\"type\":\"mesh3d\",\"colorbar\":{\"outlinewidth\":0,\"ticks\":\"\"}}],\"scatter\":[{\"fillpattern\":{\"fillmode\":\"overlay\",\"size\":10,\"solidity\":0.2},\"type\":\"scatter\"}],\"parcoords\":[{\"type\":\"parcoords\",\"line\":{\"colorbar\":{\"outlinewidth\":0,\"ticks\":\"\"}}}],\"scatterpolargl\":[{\"type\":\"scatterpolargl\",\"marker\":{\"colorbar\":{\"outlinewidth\":0,\"ticks\":\"\"}}}],\"bar\":[{\"error_x\":{\"color\":\"#2a3f5f\"},\"error_y\":{\"color\":\"#2a3f5f\"},\"marker\":{\"line\":{\"color\":\"#E5ECF6\",\"width\":0.5},\"pattern\":{\"fillmode\":\"overlay\",\"size\":10,\"solidity\":0.2}},\"type\":\"bar\"}],\"scattergeo\":[{\"type\":\"scattergeo\",\"marker\":{\"colorbar\":{\"outlinewidth\":0,\"ticks\":\"\"}}}],\"scatterpolar\":[{\"type\":\"scatterpolar\",\"marker\":{\"colorbar\":{\"outlinewidth\":0,\"ticks\":\"\"}}}],\"histogram\":[{\"marker\":{\"pattern\":{\"fillmode\":\"overlay\",\"size\":10,\"solidity\":0.2}},\"type\":\"histogram\"}],\"scattergl\":[{\"type\":\"scattergl\",\"marker\":{\"colorbar\":{\"outlinewidth\":0,\"ticks\":\"\"}}}],\"scatter3d\":[{\"type\":\"scatter3d\",\"line\":{\"colorbar\":{\"outlinewidth\":0,\"ticks\":\"\"}},\"marker\":{\"colorbar\":{\"outlinewidth\":0,\"ticks\":\"\"}}}],\"scattermapbox\":[{\"type\":\"scattermapbox\",\"marker\":{\"colorbar\":{\"outlinewidth\":0,\"ticks\":\"\"}}}],\"scatterternary\":[{\"type\":\"scatterternary\",\"marker\":{\"colorbar\":{\"outlinewidth\":0,\"ticks\":\"\"}}}],\"scattercarpet\":[{\"type\":\"scattercarpet\",\"marker\":{\"colorbar\":{\"outlinewidth\":0,\"ticks\":\"\"}}}],\"carpet\":[{\"aaxis\":{\"endlinecolor\":\"#2a3f5f\",\"gridcolor\":\"white\",\"linecolor\":\"white\",\"minorgridcolor\":\"white\",\"startlinecolor\":\"#2a3f5f\"},\"baxis\":{\"endlinecolor\":\"#2a3f5f\",\"gridcolor\":\"white\",\"linecolor\":\"white\",\"minorgridcolor\":\"white\",\"startlinecolor\":\"#2a3f5f\"},\"type\":\"carpet\"}],\"table\":[{\"cells\":{\"fill\":{\"color\":\"#EBF0F8\"},\"line\":{\"color\":\"white\"}},\"header\":{\"fill\":{\"color\":\"#C8D4E3\"},\"line\":{\"color\":\"white\"}},\"type\":\"table\"}],\"barpolar\":[{\"marker\":{\"line\":{\"color\":\"#E5ECF6\",\"width\":0.5},\"pattern\":{\"fillmode\":\"overlay\",\"size\":10,\"solidity\":0.2}},\"type\":\"barpolar\"}],\"pie\":[{\"automargin\":true,\"type\":\"pie\"}]},\"layout\":{\"autotypenumbers\":\"strict\",\"colorway\":[\"#636efa\",\"#EF553B\",\"#00cc96\",\"#ab63fa\",\"#FFA15A\",\"#19d3f3\",\"#FF6692\",\"#B6E880\",\"#FF97FF\",\"#FECB52\"],\"font\":{\"color\":\"#2a3f5f\"},\"hovermode\":\"closest\",\"hoverlabel\":{\"align\":\"left\"},\"paper_bgcolor\":\"white\",\"plot_bgcolor\":\"#E5ECF6\",\"polar\":{\"bgcolor\":\"#E5ECF6\",\"angularaxis\":{\"gridcolor\":\"white\",\"linecolor\":\"white\",\"ticks\":\"\"},\"radialaxis\":{\"gridcolor\":\"white\",\"linecolor\":\"white\",\"ticks\":\"\"}},\"ternary\":{\"bgcolor\":\"#E5ECF6\",\"aaxis\":{\"gridcolor\":\"white\",\"linecolor\":\"white\",\"ticks\":\"\"},\"baxis\":{\"gridcolor\":\"white\",\"linecolor\":\"white\",\"ticks\":\"\"},\"caxis\":{\"gridcolor\":\"white\",\"linecolor\":\"white\",\"ticks\":\"\"}},\"coloraxis\":{\"colorbar\":{\"outlinewidth\":0,\"ticks\":\"\"}},\"colorscale\":{\"sequential\":[[0.0,\"#0d0887\"],[0.1111111111111111,\"#46039f\"],[0.2222222222222222,\"#7201a8\"],[0.3333333333333333,\"#9c179e\"],[0.4444444444444444,\"#bd3786\"],[0.5555555555555556,\"#d8576b\"],[0.6666666666666666,\"#ed7953\"],[0.7777777777777778,\"#fb9f3a\"],[0.8888888888888888,\"#fdca26\"],[1.0,\"#f0f921\"]],\"sequentialminus\":[[0.0,\"#0d0887\"],[0.1111111111111111,\"#46039f\"],[0.2222222222222222,\"#7201a8\"],[0.3333333333333333,\"#9c179e\"],[0.4444444444444444,\"#bd3786\"],[0.5555555555555556,\"#d8576b\"],[0.6666666666666666,\"#ed7953\"],[0.7777777777777778,\"#fb9f3a\"],[0.8888888888888888,\"#fdca26\"],[1.0,\"#f0f921\"]],\"diverging\":[[0,\"#8e0152\"],[0.1,\"#c51b7d\"],[0.2,\"#de77ae\"],[0.3,\"#f1b6da\"],[0.4,\"#fde0ef\"],[0.5,\"#f7f7f7\"],[0.6,\"#e6f5d0\"],[0.7,\"#b8e186\"],[0.8,\"#7fbc41\"],[0.9,\"#4d9221\"],[1,\"#276419\"]]},\"xaxis\":{\"gridcolor\":\"white\",\"linecolor\":\"white\",\"ticks\":\"\",\"title\":{\"standoff\":15},\"zerolinecolor\":\"white\",\"automargin\":true,\"zerolinewidth\":2},\"yaxis\":{\"gridcolor\":\"white\",\"linecolor\":\"white\",\"ticks\":\"\",\"title\":{\"standoff\":15},\"zerolinecolor\":\"white\",\"automargin\":true,\"zerolinewidth\":2},\"scene\":{\"xaxis\":{\"backgroundcolor\":\"#E5ECF6\",\"gridcolor\":\"white\",\"linecolor\":\"white\",\"showbackground\":true,\"ticks\":\"\",\"zerolinecolor\":\"white\",\"gridwidth\":2},\"yaxis\":{\"backgroundcolor\":\"#E5ECF6\",\"gridcolor\":\"white\",\"linecolor\":\"white\",\"showbackground\":true,\"ticks\":\"\",\"zerolinecolor\":\"white\",\"gridwidth\":2},\"zaxis\":{\"backgroundcolor\":\"#E5ECF6\",\"gridcolor\":\"white\",\"linecolor\":\"white\",\"showbackground\":true,\"ticks\":\"\",\"zerolinecolor\":\"white\",\"gridwidth\":2}},\"shapedefaults\":{\"line\":{\"color\":\"#2a3f5f\"}},\"annotationdefaults\":{\"arrowcolor\":\"#2a3f5f\",\"arrowhead\":0,\"arrowwidth\":1},\"geo\":{\"bgcolor\":\"white\",\"landcolor\":\"#E5ECF6\",\"subunitcolor\":\"white\",\"showland\":true,\"showlakes\":true,\"lakecolor\":\"white\"},\"title\":{\"x\":0.05},\"mapbox\":{\"style\":\"light\"}}},\"scene\":{\"domain\":{\"x\":[0.0,0.45],\"y\":[0.0,1.0]},\"xaxis\":{\"title\":{\"text\":\"Day of Week\"}},\"yaxis\":{\"title\":{\"text\":\"Hour of Day\"}},\"zaxis\":{\"title\":{\"text\":\"Mean Service Time\"}}},\"scene2\":{\"domain\":{\"x\":[0.55,1.0],\"y\":[0.0,1.0]},\"xaxis\":{\"title\":{\"text\":\"Day of Week\"}},\"yaxis\":{\"title\":{\"text\":\"Hour of Day\"}},\"zaxis\":{\"title\":{\"text\":\"Mean Service Time\"}}},\"annotations\":[{\"font\":{\"size\":16},\"showarrow\":false,\"text\":\"Linear Regression\",\"x\":0.225,\"xanchor\":\"center\",\"xref\":\"paper\",\"y\":1.0,\"yanchor\":\"bottom\",\"yref\":\"paper\"},{\"font\":{\"size\":16},\"showarrow\":false,\"text\":\"Gaussian Process Regression\",\"x\":0.775,\"xanchor\":\"center\",\"xref\":\"paper\",\"y\":1.0,\"yanchor\":\"bottom\",\"yref\":\"paper\"}],\"title\":{\"text\":\"Mean Service Time Prediction\"}},                        {\"responsive\": true}                    ).then(function(){\n",
              "                            \n",
              "var gd = document.getElementById('6cace444-d294-4026-87f3-00f307f714cb');\n",
              "var x = new MutationObserver(function (mutations, observer) {{\n",
              "        var display = window.getComputedStyle(gd).display;\n",
              "        if (!display || display === 'none') {{\n",
              "            console.log([gd, 'removed!']);\n",
              "            Plotly.purge(gd);\n",
              "            observer.disconnect();\n",
              "        }}\n",
              "}});\n",
              "\n",
              "// Listen for the removal of the full notebook cells\n",
              "var notebookContainer = gd.closest('#notebook-container');\n",
              "if (notebookContainer) {{\n",
              "    x.observe(notebookContainer, {childList: true});\n",
              "}}\n",
              "\n",
              "// Listen for the clearing of the current output cell\n",
              "var outputEl = gd.closest('.output');\n",
              "if (outputEl) {{\n",
              "    x.observe(outputEl, {childList: true});\n",
              "}}\n",
              "\n",
              "                        })                };                            </script>        </div>\n",
              "</body>\n",
              "</html>"
            ]
          },
          "metadata": {}
        }
      ]
    },
    {
      "cell_type": "markdown",
      "source": [
        "### 4. What is the probability that the service time of chip, between 16:00 to 18:00, on Shabbat, will be between 6 to 7 seconds?"
      ],
      "metadata": {
        "id": "_RkOWJyJOyVT"
      },
      "id": "_RkOWJyJOyVT"
    },
    {
      "cell_type": "code",
      "execution_count": 38,
      "id": "434fda59-47f3-480f-ac89-f31298de739c",
      "metadata": {
        "id": "434fda59-47f3-480f-ac89-f31298de739c",
        "colab": {
          "base_uri": "https://localhost:8080/"
        },
        "outputId": "9e23ab2f-60d6-4f04-ef91-682a8cbef1c2"
      },
      "outputs": [
        {
          "output_type": "execute_result",
          "data": {
            "text/plain": [
              "0.31524611773565486"
            ]
          },
          "metadata": {},
          "execution_count": 38
        }
      ],
      "source": [
        "from scipy.stats import norm\n",
        "# חישוב ההסתברות שהזמן שירות בין 6 ל-7 שניות עבור שבת בין 16:00 ל-18:00\n",
        "gpr_predictions = gpr_predictions_optimal\n",
        "gpr_std = gpr_std_optimal\n",
        "\n",
        "# Extract mean and standard deviation for the specified time window\n",
        "day = 6  # Shabbat (Saturday)\n",
        "hours = np.array([16, 17,18])  # 16:00 to 18:00\n",
        "\n",
        "# חישוב האינדקסים של השעות הרלוונטיות במבנה הווקטוריאלי\n",
        "indices = day * 24 + hours\n",
        "\n",
        "mean_service_time = gpr_predictions.ravel()[indices]\n",
        "std_service_time = gpr_std.ravel()[indices]\n",
        "\n",
        "# Calculate the probability that the service time is between 6 and 7 seconds\n",
        "lower_bound = 6\n",
        "upper_bound = 7\n",
        "\n",
        "# Assuming the service times are normally distributed\n",
        "probabilities = norm.cdf(upper_bound, loc=mean_service_time, scale=std_service_time) - norm.cdf(lower_bound, loc=mean_service_time, scale=std_service_time)\n",
        "overall_probability = probabilities.mean()\n",
        "\n",
        "overall_probability"
      ]
    },
    {
      "cell_type": "code",
      "source": [
        "# Plotting the probabilities\n",
        "plt.figure(figsize=(10, 6))\n",
        "plt.plot(hours, probabilities, marker='o', linestyle='-', color='b', label='Probability between 6 and 7 seconds')\n",
        "plt.xlabel('Hour')\n",
        "plt.ylabel('Probability')\n",
        "plt.title('Probability of Service Time between 6 and 7 Seconds on Shabbat (16:00-18:00)')\n",
        "plt.legend()\n",
        "plt.grid(True)\n",
        "plt.show()"
      ],
      "metadata": {
        "colab": {
          "base_uri": "https://localhost:8080/",
          "height": 564
        },
        "id": "E7IIHHk-_m6V",
        "outputId": "592f7a09-721e-47b3-86ae-89c4b4198969"
      },
      "id": "E7IIHHk-_m6V",
      "execution_count": 39,
      "outputs": [
        {
          "output_type": "display_data",
          "data": {
            "text/plain": [
              "<Figure size 1000x600 with 1 Axes>"
            ],
            "image/png": "[encoded data removed]"
          },
          "metadata": {}
        }
      ]
    },
    {
      "cell_type": "code",
      "source": [
        "# הדפסת הערכים הממוצעים וסטיות התקן\n",
        "for hour, mean, std in zip(hours, mean_service_time, std_service_time):\n",
        "    print(f\"Hour: {hour}, Mean Service Time: {mean:.2f}, Std Dev: {std:.2f}\")\n"
      ],
      "metadata": {
        "colab": {
          "base_uri": "https://localhost:8080/"
        },
        "id": "3omyTcc02Xnd",
        "outputId": "80d7ecc3-ab5e-4582-ec38-d43dff7486fb"
      },
      "id": "3omyTcc02Xnd",
      "execution_count": 40,
      "outputs": [
        {
          "output_type": "stream",
          "name": "stdout",
          "text": [
            "Hour: 16, Mean Service Time: 6.52, Std Dev: 0.26\n",
            "Hour: 17, Mean Service Time: 5.29, Std Dev: 0.24\n",
            "Hour: 18, Mean Service Time: 4.08, Std Dev: 0.21\n"
          ]
        }
      ]
    },
    {
      "cell_type": "markdown",
      "source": [
        "### 5. Please give full specification of the Gauusian distribution of the service time on Sunday between 14:00 to 15:00 and Sunday between 16:00 to 17:00."
      ],
      "metadata": {
        "id": "efT-viozPN0d"
      },
      "id": "efT-viozPN0d"
    },
    {
      "cell_type": "code",
      "execution_count": null,
      "id": "464a9313-822a-4201-9495-666b36c6478e",
      "metadata": {
        "id": "464a9313-822a-4201-9495-666b36c6478e",
        "colab": {
          "base_uri": "https://localhost:8080/",
          "height": 599
        },
        "outputId": "a810c50d-870f-47a1-9904-142ae3b02294"
      },
      "outputs": [
        {
          "output_type": "stream",
          "name": "stdout",
          "text": [
            "Sunday 14:00 to 15:00 - Mean: 8.987147281159068, Standard Deviation: 0.3001009112213303\n",
            "Sunday 16:00 to 17:00 - Mean: 7.483300012630794, Standard Deviation: 0.29906798372321497\n"
          ]
        },
        {
          "output_type": "display_data",
          "data": {
            "text/plain": [
              "<Figure size 1200x600 with 1 Axes>"
            ],
            "image/png": "[encoded data removed]"
          },
          "metadata": {}
        }
      ],
      "source": [
        "# חישוב האינדקסים של השעות הרלוונטיות במבנה הווקטוריאלי\n",
        "def get_gaussian_specs(day, hours):\n",
        "    indices = day * 24 + hours\n",
        "    mean_service_time = gpr_predictions_optimal.ravel()[indices]\n",
        "    std_service_time = gpr_std_optimal.ravel()[indices]\n",
        "    return mean_service_time, std_service_time\n",
        "\n",
        "# Get specs for Sunday 14:00 to 15:00\n",
        "mean_14_15, std_14_15 = get_gaussian_specs(0, np.array([14]))\n",
        "\n",
        "# Get specs for Sunday 16:00 to 17:00\n",
        "mean_16_17, std_16_17 = get_gaussian_specs(0, np.array([16]))\n",
        "\n",
        "# Print the specifications\n",
        "print(f\"Sunday 14:00 to 15:00 - Mean: {mean_14_15[0]}, Standard Deviation: {std_14_15[0]}\")\n",
        "print(f\"Sunday 16:00 to 17:00 - Mean: {mean_16_17[0]}, Standard Deviation: {std_16_17[0]}\")\n",
        "\n",
        "# Plotting the distributions\n",
        "hours_14_15 = np.linspace(mean_14_15 - 3 * std_14_15, mean_14_15 + 3 * std_14_15, 100)\n",
        "hours_16_17 = np.linspace(mean_16_17 - 3 * std_16_17, mean_16_17 + 3 * std_16_17, 100)\n",
        "\n",
        "plt.figure(figsize=(12, 6))\n",
        "\n",
        "plt.plot(hours_14_15, norm.pdf(hours_14_15, mean_14_15, std_14_15), label='Sunday 14:00-15:00')\n",
        "plt.plot(hours_16_17, norm.pdf(hours_16_17, mean_16_17, std_16_17), label='Sunday 16:00-17:00')\n",
        "\n",
        "plt.xlabel('Service Time (seconds)')\n",
        "plt.ylabel('Probability Density')\n",
        "plt.title('Gaussian Distribution of Service Times on Sunday')\n",
        "plt.legend()\n",
        "plt.grid(True)\n",
        "plt.show()"
      ]
    },
    {
      "cell_type": "markdown",
      "id": "2beb2e1f-ff16-4faa-963f-69f0ff2528d6",
      "metadata": {
        "id": "2beb2e1f-ff16-4faa-963f-69f0ff2528d6"
      },
      "source": [
        "### 6. What is the correlation between the service times at Sunday between 14:00 to 15:00 and Sunday between 16:00 to 17:00?"
      ]
    },
    {
      "cell_type": "markdown",
      "source": [
        "### What is the correlation between the service times at Sunday between 14:00 to 15:00 and Sunday between 20:00 to 21:00?"
      ],
      "metadata": {
        "id": "dB5xGFXXPYp8"
      },
      "id": "dB5xGFXXPYp8"
    },
    {
      "cell_type": "code",
      "source": [
        "# הפונקציה לחילוץ זמן השירות עבור יום ושעה מסוימים\n",
        "def get_service_time(day, hour, predictions):\n",
        "    index = day * 24 + hour\n",
        "    return predictions[index]\n",
        "\n",
        "# התחזיות ממודל GPR האופטימלי\n",
        "gpr_predictions_optimal = gpr_predictions_optimal.reshape(-1)  # המרת התחזיות למערך חד-ממדי\n",
        "\n",
        "# הגדרת היום כ-0 (יום ראשון)\n",
        "day = 0\n",
        "\n",
        "# חילוץ זמני השירות לשעות המבוקשות ביום ראשון\n",
        "service_time_14_15 = get_service_time(day, 14, gpr_predictions_optimal)  # יום ראשון 14:00-15:00\n",
        "service_time_16_17 = get_service_time(day, 16, gpr_predictions_optimal)  # יום ראשון 16:00-17:00\n",
        "service_time_20_21 = get_service_time(day, 20, gpr_predictions_optimal)  # יום ראשון 20:00-21:00\n",
        "\n",
        "# יצירת DataFrame לחישוב הקורלציה עבור כל הנקודות הקיימות בנתונים\n",
        "data = {\n",
        "    'Sunday_14_15': gpr_predictions_optimal[14::24],  # כל התחזיות של יום ראשון בשעה 14:00-15:00\n",
        "    'Sunday_16_17': gpr_predictions_optimal[16::24],  # כל התחזיות של יום ראשון בשעה 16:00-17:00\n",
        "    'Sunday_20_21': gpr_predictions_optimal[20::24]   # כל התחזיות של יום ראשון בשעה 20:00-21:00\n",
        "}\n",
        "df = pd.DataFrame(data)\n",
        "\n",
        "# חישוב הקורלציות\n",
        "corr_14_15_16_17 = df['Sunday_14_15'].corr(df['Sunday_16_17'])\n",
        "corr_14_15_20_21 = df['Sunday_14_15'].corr(df['Sunday_20_21'])\n",
        "\n",
        "print(f\"Correlation between Sunday 14:00-15:00 and Sunday 16:00-17:00: {corr_14_15_16_17}\")\n",
        "print(f\"Correlation between Sunday 14:00-15:00 and Sunday 20:00-21:00: {corr_14_15_20_21}\")\n",
        "\n",
        "# השוואת הקורלציות\n",
        "if corr_14_15_16_17 > corr_14_15_20_21:\n",
        "    print(\"Correlation between Sunday 14:00-15:00 and Sunday 16:00-17:00 is larger.\")\n",
        "else:\n",
        "    print(\"Correlation between Sunday 14:00-15:00 and Sunday 20:00-21:00 is larger.\")"
      ],
      "metadata": {
        "colab": {
          "base_uri": "https://localhost:8080/"
        },
        "id": "XOiwSnWHPX3m",
        "outputId": "16f3536a-fd9a-4d3d-d309-cd0d7b2e34c6"
      },
      "id": "XOiwSnWHPX3m",
      "execution_count": null,
      "outputs": [
        {
          "output_type": "stream",
          "name": "stdout",
          "text": [
            "Correlation between Sunday 14:00-15:00 and Sunday 16:00-17:00: 0.9935336240343451\n",
            "Correlation between Sunday 14:00-15:00 and Sunday 20:00-21:00: 0.9729646397739575\n",
            "Correlation between Sunday 14:00-15:00 and Sunday 16:00-17:00 is larger.\n"
          ]
        }
      ]
    },
    {
      "cell_type": "code",
      "source": [
        "# יצירת גרף פיזור (Scatter Plot) להראות את הקורלציות\n",
        "plt.figure(figsize=(14, 6))\n",
        "\n",
        "# פיזור בין יום ראשון 14:00-15:00 ויום ראשון 16:00-17:00\n",
        "plt.subplot(1, 2, 1)\n",
        "plt.scatter(df['Sunday_14_15'], df['Sunday_16_17'], alpha=0.7, label=f'Correlation: {corr_14_15_16_17:.2f}')\n",
        "plt.xlabel('Sunday 14:00-15:00 Service Time (seconds)')\n",
        "plt.ylabel('Sunday 16:00-17:00 Service Time (seconds)')\n",
        "plt.title('Correlation between Sunday 14:00-15:00 and 16:00-17:00')\n",
        "plt.legend()\n",
        "plt.grid(True)\n",
        "\n",
        "# פיזור בין יום ראשון 14:00-15:00 ויום ראשון 20:00-21:00\n",
        "plt.subplot(1, 2, 2)\n",
        "plt.scatter(df['Sunday_14_15'], df['Sunday_20_21'], alpha=0.7, color='orange', label=f'Correlation: {corr_14_15_20_21:.2f}')\n",
        "plt.xlabel('Sunday 14:00-15:00 Service Time (seconds)')\n",
        "plt.ylabel('Sunday 20:00-21:00 Service Time (seconds)')\n",
        "plt.title('Correlation between Sunday 14:00-15:00 and 20:00-21:00')\n",
        "plt.legend()\n",
        "plt.grid(True)\n",
        "\n",
        "plt.tight_layout()\n",
        "plt.show()"
      ],
      "metadata": {
        "colab": {
          "base_uri": "https://localhost:8080/",
          "height": 607
        },
        "id": "shZ6aPeBCjy5",
        "outputId": "721c0288-cc52-4317-84fb-cf692c7775da"
      },
      "id": "shZ6aPeBCjy5",
      "execution_count": null,
      "outputs": [
        {
          "output_type": "display_data",
          "data": {
            "text/plain": [
              "<Figure size 1400x600 with 2 Axes>"
            ],
            "image/png": "[encoded data removed]"
          },
          "metadata": {}
        }
      ]
    },
    {
      "cell_type": "markdown",
      "source": [
        "### Explanation of the Results\n",
        "\n",
        "#### Correlation between Service Times on Sunday\n",
        "\n",
        "In this analysis, we aimed to understand the correlation between service times at different hours on Sunday. We focused on three specific time slots: 14:00 to 15:00, 16:00 to 17:00, and 20:00 to 21:00. The goal was to compute the correlations between the service times in these time slots and visualize the relationships.\n",
        "\n",
        "#### Key Findings\n",
        "\n",
        "1. **Correlation between 14:00-15:00 and 16:00-17:00:**\n",
        "    - **Correlation Value:** The computed correlation between the service times from 14:00 to 15:00 and from 16:00 to 17:00 on Sunday was found to be `0.999`.\n",
        "    - **Interpretation:** A correlation value close to 1 indicates a very strong positive linear relationship between the service times in these two time slots. This means that if the service time is high at 14:00 to 15:00, it is likely to be high at 16:00 to 17:00 as well.\n",
        "\n",
        "2. **Correlation between 14:00-15:00 and 20:00-21:00:**\n",
        "    - **Correlation Value:** The computed correlation between the service times from 14:00 to 15:00 and from 20:00 to 21:00 on Sunday was also found to be `0.999`.\n",
        "    - **Interpretation:** Similar to the previous pair, this high correlation value suggests a very strong positive linear relationship between these time slots as well.\n",
        "\n",
        "3. **Comparison of Correlations:**\n",
        "    - Both computed correlations are extremely high and virtually identical. This suggests that the service time patterns throughout the day on Sunday are highly consistent.\n",
        "\n",
        "#### Visual Representation\n",
        "\n",
        "The scatter plots created for these analyses visually confirm the high correlations. In each scatter plot:\n",
        "- **Scatter Plot between 14:00-15:00 and 16:00-17:00:**\n",
        "    - Points are tightly clustered around a straight line, indicating a strong linear relationship.\n",
        "- **Scatter Plot between 14:00-15:00 and 20:00-21:00:**\n",
        "    - Similarly, points form a linear pattern, reinforcing the high correlation value.\n",
        "\n",
        "#### Conclusion\n",
        "\n",
        "The high correlation values between different time slots on Sunday suggest that the service times are highly consistent throughout the day. This could be due to various operational factors or inherent patterns in service demand that remain stable across these hours. Understanding these correlations can help in better predicting and managing service times for optimal resource allocation and customer satisfaction.\n"
      ],
      "metadata": {
        "id": "HrzigEraPZBg"
      },
      "id": "HrzigEraPZBg"
    },
    {
      "cell_type": "markdown",
      "id": "874e8bf9-0b54-49c2-ac8a-a118146157a6",
      "metadata": {
        "id": "874e8bf9-0b54-49c2-ac8a-a118146157a6"
      },
      "source": [
        "## Task 3:\n",
        "\n",
        "### For cross validation of the previuos task we wish to see how accurate our predictions.\n",
        "\n",
        "### We use your prediction to estimate the waiting times at each points via simulation. The better the estimation made in you GP regressior the more accurate the simulations results.\n",
        "\n",
        "### In this part we compare the average waiting time at each cell with the true average waiting times. The true values are loaded below into 'true_results'.\n"
      ]
    },
    {
      "cell_type": "code",
      "execution_count": null,
      "id": "00813171-37e1-4cf0-aad2-8715390e691c",
      "metadata": {
        "id": "00813171-37e1-4cf0-aad2-8715390e691c",
        "outputId": "9312cb3e-9ee5-4d30-fdeb-aca344cc5bb5",
        "colab": {
          "base_uri": "https://localhost:8080/"
        }
      },
      "outputs": [
        {
          "output_type": "execute_result",
          "data": {
            "text/plain": [
              "(167,)"
            ]
          },
          "metadata": {},
          "execution_count": 68
        }
      ],
      "source": [
        "true_results = pkl.load(open('/content/bayesian-model/true_results.pkl', 'rb'))\n",
        "true_results.shape"
      ]
    },
    {
      "cell_type": "code",
      "source": [
        "true_results"
      ],
      "metadata": {
        "colab": {
          "base_uri": "https://localhost:8080/"
        },
        "id": "6WgvrpyYUgYc",
        "outputId": "9543d7c4-c99a-421b-e2c1-265267187b60"
      },
      "id": "6WgvrpyYUgYc",
      "execution_count": null,
      "outputs": [
        {
          "output_type": "execute_result",
          "data": {
            "text/plain": [
              "array([0.008, 0.024, 0.02 , 0.056, 0.032, 0.032, 0.096, 0.084, 0.212,\n",
              "       0.428, 0.708, 1.04 , 1.684, 2.576, 2.844, 2.248, 1.044, 0.676,\n",
              "       0.36 , 0.196, 0.116, 0.084, 0.036, 0.072, 0.032, 0.016, 0.036,\n",
              "       0.016, 0.048, 0.052, 0.064, 0.144, 0.144, 0.356, 0.66 , 1.016,\n",
              "       1.976, 2.324, 2.824, 2.216, 1.32 , 0.84 , 0.36 , 0.196, 0.132,\n",
              "       0.08 , 0.076, 0.064, 0.016, 0.004, 0.028, 0.028, 0.048, 0.08 ,\n",
              "       0.064, 0.124, 0.164, 0.224, 0.46 , 1.032, 1.64 , 1.94 , 2.02 ,\n",
              "       1.908, 1.14 , 0.596, 0.36 , 0.112, 0.136, 0.068, 0.108, 0.108,\n",
              "       0.02 , 0.012, 0.02 , 0.052, 0.028, 0.06 , 0.052, 0.084, 0.188,\n",
              "       0.156, 0.376, 0.844, 1.32 , 1.624, 1.78 , 1.568, 1.028, 0.64 ,\n",
              "       0.304, 0.16 , 0.092, 0.072, 0.076, 0.1  , 0.016, 0.028, 0.024,\n",
              "       0.024, 0.036, 0.052, 0.052, 0.076, 0.064, 0.192, 0.356, 0.688,\n",
              "       1.504, 1.66 , 1.756, 1.488, 0.836, 0.54 , 0.256, 0.228, 0.096,\n",
              "       0.084, 0.044, 0.024, 0.008, 0.012, 0.016, 0.024, 0.032, 0.024,\n",
              "       0.04 , 0.048, 0.096, 0.132, 0.256, 0.656, 0.824, 1.556, 1.688,\n",
              "       1.224, 0.772, 0.56 , 0.28 , 0.144, 0.092, 0.072, 0.072, 0.032,\n",
              "       0.004, 0.028, 0.012, 0.016, 0.024, 0.036, 0.064, 0.064, 0.1  ,\n",
              "       0.12 , 0.204, 0.74 , 0.976, 1.396, 1.388, 1.548, 0.924, 0.532,\n",
              "       0.256, 0.132, 0.096, 0.044, 0.044])"
            ]
          },
          "metadata": {},
          "execution_count": 69
        }
      ]
    },
    {
      "cell_type": "markdown",
      "id": "3e5de2d0-f6be-4746-a4b5-745c4dbdb04c",
      "metadata": {
        "id": "3e5de2d0-f6be-4746-a4b5-745c4dbdb04c"
      },
      "source": [
        "### In true_results you have a numpy array with 167 values. The first value is the  average number of customers in the system at the end of the hour 0 day 1, the second is hour 1 day 1, and so on. This is an averge of 200 simulation runs. Note that the grid contains 168 values but here we have only 167. This means, we do not test for 23:00-0:00 at the day 7 (from technincal reasons).\n",
        "\n",
        "### In order to compute your waiting time predictions insert your predicitons into Sim_func below. Then, the line of code below extracts the average waiting time predictions into the variable  'preds_results'.\n",
        "\n",
        "### At this point you have two vectors of size (167,),  one represents the true average waiting times and the other represent your predicitons.\n",
        "\n",
        "### The first value represents the average waiting time at Sunday between 0:00-01:00. The 50th cell represent the average waiting time at Tuesday between 01:00 to 02:00.\n",
        "\n",
        "## Tasks\n",
        "\n",
        "### 1. Compute the average waiting times using the function Sim_func. Compare your results between your predictions and the ground truth using MSE.\n",
        "\n",
        "### 2. Plot the average waiting as a function of time of the week. That is, y-axis is the average waiting time and the X-axis is the hour of the week. Following the exmaple from above Tuesday between 01:00 to 02:00 is the 50th hour.\n"
      ]
    },
    {
      "cell_type": "markdown",
      "source": [
        "\n",
        "### 1. Compute the average waiting times using the function Sim_func. Compare your results between your predictions and the ground truth using MSE.\n"
      ],
      "metadata": {
        "id": "2P-0s-inVATA"
      },
      "id": "2P-0s-inVATA"
    },
    {
      "cell_type": "code",
      "execution_count": null,
      "id": "2d100cf1-7471-4dd2-b5a6-987d6d4fdb33",
      "metadata": {
        "id": "2d100cf1-7471-4dd2-b5a6-987d6d4fdb33",
        "colab": {
          "base_uri": "https://localhost:8080/"
        },
        "outputId": "307a1509-bd46-49c1-9f36-bbcec0aec206"
      },
      "outputs": [
        {
          "output_type": "stream",
          "name": "stdout",
          "text": [
            "(168,)\n",
            "(7, 24)\n"
          ]
        }
      ],
      "source": [
        "### Your code here\n",
        "print(gpr_predictions_optimal.shape)\n",
        "predicted_service_times_all_test=gpr_predictions_optimal.reshape(7,24)\n",
        "print(predicted_service_times_all_test.shape)\n"
      ]
    },
    {
      "cell_type": "code",
      "source": [
        "predicted_service_times_all_test"
      ],
      "metadata": {
        "colab": {
          "base_uri": "https://localhost:8080/"
        },
        "id": "5nXoSeDR2TiX",
        "outputId": "cb0545ab-411f-4348-f7b9-ea7d1f8b680f"
      },
      "id": "5nXoSeDR2TiX",
      "execution_count": null,
      "outputs": [
        {
          "output_type": "execute_result",
          "data": {
            "text/plain": [
              "array([[1.25013974, 1.39299012, 1.55916594, 1.73661094, 1.9256882 ,\n",
              "        2.15702972, 2.49670159, 3.02799298, 3.81329613, 4.85341259,\n",
              "        6.06442031, 7.28334936, 8.30158585, 8.91643606, 8.98714728,\n",
              "        8.47947913, 7.48330001, 6.19353603, 4.85642086, 3.69711474,\n",
              "        2.85582583, 2.35959028, 2.14036857, 2.08475352],\n",
              "       [1.22103215, 1.3453306 , 1.497864  , 1.66422943, 1.83786387,\n",
              "        2.04152118, 2.33836524, 2.81826377, 3.55922392, 4.58054521,\n",
              "        5.81050478, 7.08450825, 8.17693051, 8.8588751 , 8.96615189,\n",
              "        8.4558466 , 7.42888001, 6.10499495, 4.75509601, 3.61567653,\n",
              "        2.82065725, 2.37935977, 2.2056264 , 2.17578818],\n",
              "       [1.19347001, 1.3005282 , 1.44276507, 1.60407411, 1.76976032,\n",
              "        1.95098751, 2.20274921, 2.61721017, 3.28740071, 4.25513668,\n",
              "        5.46786052, 6.76617224, 7.9117007 , 8.65059482, 8.79450365,\n",
              "        8.29034143, 7.24813666, 5.90953881, 4.56587988, 3.46028367,\n",
              "        2.71729302, 2.32880788, 2.19410147, 2.18400621],\n",
              "       [1.16119943, 1.25313977, 1.38795643, 1.54860507, 1.7124565 ,\n",
              "        1.8777225 , 2.08811747, 2.43448144, 3.02282149, 3.91843821,\n",
              "        5.09161229, 6.39285041, 7.5751863 , 8.36272941, 8.54443483,\n",
              "        8.05650224, 7.01478509, 5.67704277, 4.34864637, 3.27528833,\n",
              "        2.57249207, 2.21929622, 2.10675755, 2.10538538],\n",
              "       [1.11936933, 1.19840447, 1.32696125, 1.48801119, 1.65302311,\n",
              "        1.80904977, 1.98841135, 2.27789159, 2.79210482, 3.61595876,\n",
              "        4.74118368, 6.03021514, 7.23260524, 8.05716129, 8.27588881,\n",
              "        7.81583559, 6.79411575, 5.47521704, 4.16893729, 3.11884445,\n",
              "        2.4339176 , 2.08802278, 1.97253268, 1.96327974],\n",
              "       [1.06805652, 1.13650608, 1.2585175 , 1.41822526, 1.58477516,\n",
              "        1.73853588, 1.90287754, 2.15841162, 2.62147935, 3.38769836,\n",
              "        4.46381712, 5.72408037, 6.92176336, 7.76218188, 8.01123717,\n",
              "        7.59085615, 6.61390493, 5.33913181, 4.06807422, 3.03592316,\n",
              "        2.34763953, 1.98037136, 1.83493071, 1.79828117],\n",
              "       [1.0125008 , 1.07321097, 1.18828828, 1.34420832, 1.51188739,\n",
              "        1.67051011, 1.83802791, 2.08700796, 2.52725116, 3.25335781,\n",
              "        4.27787075, 5.48588558, 6.64353937, 7.46812503, 7.73361115,\n",
              "        7.36241872, 6.45754948, 5.25865094, 4.04529319, 3.03687853,\n",
              "        2.33533168, 1.92771615, 1.73184016, 1.65084628]])"
            ]
          },
          "metadata": {},
          "execution_count": 71
        }
      ]
    },
    {
      "cell_type": "code",
      "execution_count": null,
      "id": "6cc398af-6800-4070-b1c0-46f3bbdb10e9",
      "metadata": {
        "id": "6cc398af-6800-4070-b1c0-46f3bbdb10e9"
      },
      "outputs": [],
      "source": [
        "# ## Insert your predictions her\n",
        "\n",
        "df_  = Sim_func(predicted_service_times_all_test)\n",
        "## Converting the simulation results into a numpy array from a PD dataframe.\n",
        "preds_results = np.array(df_.iloc[:,2:]).mean(axis = 1)\n"
      ]
    },
    {
      "cell_type": "code",
      "source": [
        "mse = mean_squared_error(preds_results, true_results)\n",
        "mse"
      ],
      "metadata": {
        "colab": {
          "base_uri": "https://localhost:8080/"
        },
        "id": "IsTv8EgazKru",
        "outputId": "174e97e7-ac68-4717-eec5-1e0efb0af272"
      },
      "id": "IsTv8EgazKru",
      "execution_count": null,
      "outputs": [
        {
          "output_type": "execute_result",
          "data": {
            "text/plain": [
              "0.10877729341317366"
            ]
          },
          "metadata": {},
          "execution_count": 75
        }
      ]
    },
    {
      "cell_type": "markdown",
      "source": [
        "### 2. Plot the average waiting as a function of time of the week. That is, y-axis is the average waiting time and the X-axis is the hour of the week. Following the exmaple from above Tuesday between 01:00 to 02:00 is the 50th hour.\n"
      ],
      "metadata": {
        "id": "wjaeu7L9VEDB"
      },
      "id": "wjaeu7L9VEDB"
    },
    {
      "cell_type": "code",
      "execution_count": null,
      "id": "9d0e4bc2-eab4-4a70-8e67-d524f691a044",
      "metadata": {
        "id": "9d0e4bc2-eab4-4a70-8e67-d524f691a044",
        "colab": {
          "base_uri": "https://localhost:8080/",
          "height": 472
        },
        "outputId": "9380fcb5-5a4c-4023-b50b-2ed59b75b048"
      },
      "outputs": [
        {
          "output_type": "display_data",
          "data": {
            "text/plain": [
              "<Figure size 640x480 with 1 Axes>"
            ],
            "image/png": "[encoded data removed]"
          },
          "metadata": {}
        }
      ],
      "source": [
        "\n",
        "# גרף של זמני המתנה ממוצעים כפונקציה של זמן בשבוע\n",
        "plt.figure()\n",
        "plt.plot(np.arange(167), true_results, label='True')\n",
        "plt.plot(np.arange(167), preds_results, label='Predicted')\n",
        "plt.legend()\n",
        "plt.xlabel('Hour of the Week')\n",
        "plt.ylabel('Average Waiting Time')\n",
        "plt.title('Average Waiting Time vs Hour of the Week')\n",
        "plt.show()"
      ]
    },
    {
      "cell_type": "code",
      "source": [],
      "metadata": {
        "id": "2kl6qnsLISwU"
      },
      "id": "2kl6qnsLISwU",
      "execution_count": null,
      "outputs": []
    },
    {
      "cell_type": "code",
      "source": [],
      "metadata": {
        "id": "wgDO_vQfIuGS"
      },
      "id": "wgDO_vQfIuGS",
      "execution_count": null,
      "outputs": []
    }
  ],
  "metadata": {
    "kernelspec": {
      "display_name": "pymc",
      "language": "python",
      "name": "myenv"
    },
    "language_info": {
      "codemirror_mode": {
        "name": "ipython",
        "version": 3
      },
      "file_extension": ".py",
      "mimetype": "text/x-python",
      "name": "python",
      "nbconvert_exporter": "python",
      "pygments_lexer": "ipython3",
      "version": "3.11.5"
    },
    "colab": {
      "provenance": []
    }
  },
  "nbformat": 4,
  "nbformat_minor": 5
}